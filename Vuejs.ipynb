{
 "cells": [
  {
   "cell_type": "markdown",
   "id": "398fcc40",
   "metadata": {},
   "source": [
    "### 安装\n",
    "* 方式一: CDN引入\n",
    "    * dev\n",
    "        ```html\n",
    "        <script src=\"https://cdn.jsdelivr.net/npm/vue/dist/vue.js\"/>\n",
    "        ```\n",
    "    * prod\n",
    "        ```html\n",
    "        <script src=\"https://cdn.jsdelivr.net/npm/vue\"/>\n",
    "        ```\n",
    "* 方式二:下载和引用\n",
    "    * dev: https://vuejs.org/js/vue.js\n",
    "    * prod: https://vuejs.org/js/vue.min.js\n",
    "* npm\n",
    "    * npm inall vue -g"
   ]
  },
  {
   "cell_type": "code",
   "execution_count": null,
   "id": "6e6e1ddf",
   "metadata": {},
   "outputs": [],
   "source": []
  }
 ],
 "metadata": {
  "kernelspec": {
   "display_name": "Python 3",
   "language": "python",
   "name": "python3"
  },
  "language_info": {
   "codemirror_mode": {
    "name": "ipython",
    "version": 3
   },
   "file_extension": ".py",
   "mimetype": "text/x-python",
   "name": "python",
   "nbconvert_exporter": "python",
   "pygments_lexer": "ipython3",
   "version": "3.8.8"
  }
 },
 "nbformat": 4,
 "nbformat_minor": 5
}
