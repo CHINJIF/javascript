{
 "cells": [
  {
   "cell_type": "markdown",
   "id": "b924537e",
   "metadata": {},
   "source": [
    "## Install\n",
    "* 安装 nodeJs\n",
    "* 安装TS编译器\n",
    "    * npm i -g typescript\n",
    "* 编译TS文件为JS\n",
    "    * tsc xxx.ts\n",
    "\n",
    "#### Jupyter notebook install typescript kernal\n",
    "* 安装 itypescript\n",
    "    * npm i -g itypescript\n",
    "* run itypescript.ts\n",
    "    * node .\\AppData\\Roaming\\npm\\node_modules\\itypescript\\bin\\itypescript.js\n",
    "\n",
    "### TS config\n",
    "* tsconfig.json\n",
    "\n",
    "## 基本类型\n",
    "#### 类型声明\n",
    "* 变量的静态类型\n",
    "    * var a: number;\n",
    "    * var a = 10;    //赋值时自动绑定类型\n",
    "    * var a;  //type 隐式为any\n",
    "* 参数、返回值类型\n",
    "    * function fn(a: number, b: number): number; \n",
    "    \n",
    "#### 类型\n",
    "||||\n",
    "|---|---||\n",
    "|基本类型|number, string, boolean, enum||\n",
    "||object, array, tuple|\n",
    "|字面量| 其本身|var c: boolean \\| string;\n",
    "|any|*|任意类型\n",
    "|unkonwn|*|类型安全的any\n",
    "|void|空值(undefined)| function fn():void\n",
    "|never|没有值|function fn():never"
   ]
  },
  {
   "cell_type": "code",
   "execution_count": 1,
   "id": "12042f7d",
   "metadata": {},
   "outputs": [
    {
     "data": {
      "text/plain": [
       "10"
      ]
     },
     "execution_count": 1,
     "metadata": {},
     "output_type": "execute_result"
    }
   ],
   "source": [
    "var a: number;\n",
    "a = 10;\n",
    "\n",
    "// a = \"hello\"; //Type 'string' is not assignable to type 'number'.\n",
    "\n",
    "function sum(a: number, b:number):number{\n",
    "    return a+b;\n",
    "}\n",
    "\n",
    "// TS2345: Argument of type 'string' is not assignable to parameter of type 'number'.\n",
    "// sum(1, \"2\"); "
   ]
  },
  {
   "cell_type": "markdown",
   "id": "b37b1a95",
   "metadata": {},
   "source": [
    "* 字面量\n",
    "    * \\|\n",
    "    * \\&"
   ]
  },
  {
   "cell_type": "code",
   "execution_count": 5,
   "id": "85ce52d0",
   "metadata": {},
   "outputs": [
    {
     "data": {
      "text/plain": [
       "{ name: 'Sam', email: '123@123.com' }"
      ]
     },
     "execution_count": 5,
     "metadata": {},
     "output_type": "execute_result"
    }
   ],
   "source": [
    "var sex: \"male\" | \"female\";\n",
    "\n",
    "// TS2322: Type '\"other\"' is not assignable to type '\"male\" | \"female\"'.\n",
    "// sex = \"other\"\n",
    "\n",
    "sex = \"male\";\n",
    "\n",
    "var c: boolean | string;\n",
    "\n",
    "var contact: { name: string} & { email: string};\n",
    "contact = { name: \"Sam\", email: \"123@123.com\"}"
   ]
  },
  {
   "cell_type": "markdown",
   "id": "fc84cf82",
   "metadata": {},
   "source": [
    "* 类型别名\n",
    "    * type alias = 字面量；\n",
    "    * <=> c++ typedef"
   ]
  },
  {
   "cell_type": "code",
   "execution_count": 1,
   "id": "3f9914e2",
   "metadata": {},
   "outputs": [
    {
     "data": {
      "text/plain": [
       "undefined"
      ]
     },
     "execution_count": 1,
     "metadata": {},
     "output_type": "execute_result"
    }
   ],
   "source": [
    "type Contact = { name: string } & { email: string};\n",
    "\n",
    "var paulContact: Contact = { name: \"Paul\", email: \"123@123.com\"}\n",
    "var smithContact: Contact;"
   ]
  },
  {
   "cell_type": "markdown",
   "id": "37423013",
   "metadata": {},
   "source": [
    "#### any vs unknown\n",
    "* any 赋值给任何变量都合法\n",
    "    * 会传递不安全的类型\n",
    "*  unknown 类型不能赋值给其他类型\n",
    "    * 保障类型安全，不能直接赋值\n",
    "* 类型断言：\n",
    "    * 是指定类型，返回的是值， 反之返回undefined\n",
    "    * 变量 as 类型\n",
    "    * <类型>变量"
   ]
  },
  {
   "cell_type": "code",
   "execution_count": 3,
   "id": "a81e9cc4",
   "metadata": {},
   "outputs": [
    {
     "data": {
      "text/plain": [
       "undefined"
      ]
     },
     "execution_count": 3,
     "metadata": {},
     "output_type": "execute_result"
    }
   ],
   "source": [
    "var anyType: any;\n",
    "var e: unknown;\n",
    "\n",
    "// type any 赋值给任何变量都合法\n",
    "var s:string = anyType; \n",
    "\n",
    "// unknown 类型不能赋值给其他类型\n",
    "// TS2322: Type 'unknown' is not assignable to type 'string'.\n",
    "// s = e;"
   ]
  },
  {
   "cell_type": "markdown",
   "id": "85c7e004",
   "metadata": {},
   "source": [
    "##### unknown 和类型断言"
   ]
  },
  {
   "cell_type": "code",
   "execution_count": 4,
   "id": "4573f348",
   "metadata": {},
   "outputs": [
    {
     "data": {
      "text/plain": [
       "undefined"
      ]
     },
     "execution_count": 4,
     "metadata": {},
     "output_type": "execute_result"
    }
   ],
   "source": [
    "//e = \"abc\"\n",
    "\n",
    "// Option 1:\n",
    "if(typeof e === \"string\"){\n",
    "    s = e\n",
    "}\n",
    "\n",
    "// Option 2: 使用类型断言\n",
    "s = e as string;\n",
    "s = <string>e;"
   ]
  },
  {
   "cell_type": "markdown",
   "id": "f9b8f8cc",
   "metadata": {},
   "source": [
    "##### void vs never"
   ]
  },
  {
   "cell_type": "code",
   "execution_count": 5,
   "id": "9a26058f",
   "metadata": {},
   "outputs": [
    {
     "data": {
      "text/plain": [
       "undefined"
      ]
     },
     "execution_count": 5,
     "metadata": {},
     "output_type": "execute_result"
    }
   ],
   "source": [
    "function fn2():never{\n",
    "    throw new Error(\"error\");\n",
    "}"
   ]
  },
  {
   "cell_type": "markdown",
   "id": "7d3f688b",
   "metadata": {},
   "source": [
    "#### 限定对象的类型\n",
    "* 限定JSON: {} \n",
    "    * 指定json对象可以包含哪些属性\n",
    "    * ？表示可选\n",
    "    * [propName:string]: any \n",
    "* 限定函数类型\n",
    "    * var fn: (a: number, b:number)=>number;\n",
    "    "
   ]
  },
  {
   "cell_type": "code",
   "execution_count": 5,
   "id": "afa63e1c",
   "metadata": {},
   "outputs": [
    {
     "data": {
      "text/plain": [
       "3"
      ]
     },
     "execution_count": 5,
     "metadata": {},
     "output_type": "execute_result"
    }
   ],
   "source": [
    "var person: {name: string, age?:number};\n",
    "\n",
    "var personExpaned: {name: string, [propName:string]: any};\n",
    "\n",
    "person = {name: \"Paul\"}\n",
    "personExpaned = {name: \"Jack\", phone: \"123\"}\n",
    "\n",
    "var numBinaryOp: (a: number, b: number)=>number;\n",
    "numBinaryOp = function (a: number, b: number): number{\n",
    "    return a+b;\n",
    "}\n",
    "numBinaryOp(1, 2);"
   ]
  },
  {
   "cell_type": "markdown",
   "id": "91514f48",
   "metadata": {},
   "source": [
    "#### Array\n",
    "* JS中的数组可以存储任意类型的对象\n",
    "* TS限定数组对象类型"
   ]
  },
  {
   "cell_type": "code",
   "execution_count": 1,
   "id": "618d5c7c",
   "metadata": {},
   "outputs": [
    {
     "data": {
      "text/plain": [
       "[ 1, 2, 3 ]"
      ]
     },
     "execution_count": 1,
     "metadata": {},
     "output_type": "execute_result"
    }
   ],
   "source": [
    "var strArray: string[];\n",
    "\n",
    "strArray = [\"cloud\", \"white\"];\n",
    "\n",
    "\n",
    "var numArray: Array<number>;\n",
    "numArray = [1, 2, 3];"
   ]
  },
  {
   "cell_type": "markdown",
   "id": "6ed0e5b6",
   "metadata": {},
   "source": [
    "#### Tuple\n"
   ]
  },
  {
   "cell_type": "code",
   "execution_count": 2,
   "id": "4d174885",
   "metadata": {},
   "outputs": [
    {
     "data": {
      "text/plain": [
       "[ 'firstname', 'surname' ]"
      ]
     },
     "execution_count": 2,
     "metadata": {},
     "output_type": "execute_result"
    }
   ],
   "source": [
    "var tupleSample: [string, string];\n",
    "tupleSample = [\"firstname\", \"surname\"]"
   ]
  },
  {
   "cell_type": "markdown",
   "id": "3fb65207",
   "metadata": {},
   "source": [
    "#### Enum"
   ]
  },
  {
   "cell_type": "code",
   "execution_count": 2,
   "id": "5f20b5ef",
   "metadata": {},
   "outputs": [
    {
     "data": {
      "text/plain": [
       "undefined"
      ]
     },
     "execution_count": 2,
     "metadata": {},
     "output_type": "execute_result"
    }
   ],
   "source": [
    "enum Gender {\n",
    "    male = 0,\n",
    "    female = 1\n",
    "}"
   ]
  },
  {
   "cell_type": "markdown",
   "id": "c56e94d4",
   "metadata": {},
   "source": [
    "## 面向对象\n",
    "##### 属性\n",
    "* 直接定义的属性是实例属性，通过实例访问\n",
    "* static：静态属性，绑定在类上，加static关键字\n",
    "* readonly：定义只读属性\n",
    "##### 方法\n",
    "* static 静态方法\n",
    "* 除了constructor不支持函数重载\n"
   ]
  },
  {
   "cell_type": "code",
   "execution_count": 1,
   "id": "1d9c4c71",
   "metadata": {},
   "outputs": [
    {
     "name": "stdout",
     "output_type": "stream",
     "text": [
      "Person { version: '1.1', name: 'Paul', age: 34 }\n"
     ]
    },
    {
     "data": {
      "text/plain": [
       "'Person'"
      ]
     },
     "execution_count": 1,
     "metadata": {},
     "output_type": "execute_result"
    }
   ],
   "source": [
    "class Person {\n",
    "    name: string;\n",
    "    age: number;\n",
    "    \n",
    "    readonly version:string = \"1.1\"\n",
    "    static className: string = \"Person\";\n",
    "    \n",
    "    constructor(name: string, age: number){\n",
    "        this.name = name;\n",
    "        this.age = age;\n",
    "        console.log(this);\n",
    "    }\n",
    "    \n",
    "    info(){\n",
    "        return this.name + \" \" + this.age;\n",
    "    }\n",
    "    \n",
    "}\n",
    "\n",
    "var paul= new Person(\"Paul\", 34);\n",
    "paul.info()\n",
    "Person.className"
   ]
  },
  {
   "cell_type": "markdown",
   "id": "e621b833",
   "metadata": {},
   "source": [
    "##### 属性可以直接定义再constructor里\n",
    "* syntax sugar 简化写法"
   ]
  },
  {
   "cell_type": "code",
   "execution_count": 1,
   "id": "1aa113b8",
   "metadata": {},
   "outputs": [
    {
     "name": "stdout",
     "output_type": "stream",
     "text": [
      "SimplyPerson { name: 'Jack', age: 23 }\n"
     ]
    },
    {
     "data": {
      "text/plain": [
       "undefined"
      ]
     },
     "execution_count": 1,
     "metadata": {},
     "output_type": "execute_result"
    }
   ],
   "source": [
    "class SimplyPerson{\n",
    "    constructor(public name: string, public age: number){};\n",
    "}\n",
    "\n",
    "var jack = new SimplyPerson(\"Jack\", 23);\n",
    "console.log(jack)"
   ]
  },
  {
   "cell_type": "markdown",
   "id": "5dfdf68c",
   "metadata": {},
   "source": [
    "#### 继承\n",
    "* override \n",
    "    * 子类直接覆盖父类方法\n",
    "    * 不重写abstract function 则报错\n",
    "    * 参数必须一致，不一致则不允许覆盖，且报错\n",
    "* super  "
   ]
  },
  {
   "cell_type": "code",
   "execution_count": 27,
   "id": "f4e0e3d5",
   "metadata": {},
   "outputs": [
    {
     "name": "stdout",
     "output_type": "stream",
     "text": [
      "Teacher { version: '1.1', name: 'Smith', age: 22 }\n",
      "${this.name} is qualified? true\n",
      "Teacher: Smith 22\n"
     ]
    },
    {
     "data": {
      "text/plain": [
       "undefined"
      ]
     },
     "execution_count": 27,
     "metadata": {},
     "output_type": "execute_result"
    }
   ],
   "source": [
    "class Teacher extends Person {\n",
    "    qualified: boolean;\n",
    "\n",
    "    constructor(name: string, age: number, qualified: boolean){\n",
    "        super(name, age);\n",
    "        this.qualified = qualified;\n",
    "    }\n",
    "\n",
    "    isQualified(){\n",
    "        // $ syntax is not working???? \n",
    "        console.log('${this.name} is qualified? ' + this.qualified)\n",
    "    }\n",
    "\n",
    "    // Property 'info' in type 'Teacher' is not assignable\n",
    "    // to the same property in base type 'Person'.\n",
    "    // info(id:string)\n",
    "\n",
    "    info() {\n",
    "        return \"Teacher: \" + super.info();\n",
    "    }\n",
    "}\n",
    "\n",
    "var teacher = new Teacher(\"Smith\", 22, true);\n",
    "teacher.isQualified();\n",
    "console.log(teacher.info());"
   ]
  },
  {
   "cell_type": "markdown",
   "id": "23d2bc75",
   "metadata": {},
   "source": [
    "##### 抽象类 \n",
    "* abstract:\n",
    "    * 不能生成实例\n",
    "    * 可以添加 abstract function"
   ]
  },
  {
   "cell_type": "code",
   "execution_count": 34,
   "id": "6f0b44df",
   "metadata": {},
   "outputs": [
    {
     "name": "stdout",
     "output_type": "stream",
     "text": [
      "mew\n"
     ]
    },
    {
     "data": {
      "text/plain": [
       "undefined"
      ]
     },
     "execution_count": 34,
     "metadata": {},
     "output_type": "execute_result"
    }
   ],
   "source": [
    "abstract class Animal {\n",
    "    name: string;\n",
    "\n",
    "    constructor(name: string){\n",
    "        this.name = name;\n",
    "    }\n",
    "\n",
    "    abstract bark():void;\n",
    "}\n",
    "\n",
    "class Dog extends Animal {\n",
    "    bark(){\n",
    "        console.log(\"woof\");\n",
    "    }\n",
    "}\n",
    "\n",
    "class Cat extends Animal {\n",
    "    bark() {\n",
    "        console.log(\"mew\");\n",
    "    }\n",
    "}\n",
    "\n",
    "var kitty = new Cat(\"Hello Kitty\");\n",
    "kitty.bark();"
   ]
  },
  {
   "cell_type": "markdown",
   "id": "56cfb7e3",
   "metadata": {},
   "source": [
    "##### 接口\n",
    "* interface\n",
    "    * 可以重复定义\n",
    "    * 接口的实现必须满足起的全部定义\n",
    "    * 只能接受抽象方法\n",
    "* 接口的实现\n",
    "    * interface可以用于限定对象/类\n",
    "        * var object: myinterface;\n",
    "        * class Foo implements myinterface;\n",
    "* interface是TS独有的，编译后的JS只有被限定后的类/对象"
   ]
  },
  {
   "cell_type": "code",
   "execution_count": 2,
   "id": "b6778017",
   "metadata": {},
   "outputs": [
    {
     "name": "stdout",
     "output_type": "stream",
     "text": [
      "{ name: 'John', gender: 'male', info: [Function: info] }\n"
     ]
    },
    {
     "data": {
      "text/plain": [
       "undefined"
      ]
     },
     "execution_count": 2,
     "metadata": {},
     "output_type": "execute_result"
    }
   ],
   "source": [
    "interface person{\n",
    "    name: string;\n",
    "\n",
    "    info():void;\n",
    "}\n",
    "\n",
    "interface person {\n",
    "    gender: string;\n",
    "}\n",
    "\n",
    "const john: person = {\n",
    "    name: \"John\",\n",
    "    gender: \"male\",\n",
    "\n",
    "    info(){\n",
    "        console.log(this);\n",
    "    }\n",
    "}\n",
    "\n",
    "john.info()\n",
    "\n",
    "class Teacher implements person{\n",
    "    name: string;\n",
    "    gender: string;\n",
    "\n",
    "    constructor(name:string, gender:string){\n",
    "        this.name = name;\n",
    "        this.gender = gender;\n",
    "    }\n",
    "\n",
    "    info(){\n",
    "        console.log(this);\n",
    "    }\n",
    "}"
   ]
  },
  {
   "cell_type": "markdown",
   "id": "263f7fdb",
   "metadata": {},
   "source": [
    "### 属性封装\n",
    "* public\n",
    "* private\n",
    "* protected\n",
    "* Accessors: ES5以上才支持"
   ]
  },
  {
   "cell_type": "code",
   "execution_count": 6,
   "id": "7fa800b7",
   "metadata": {},
   "outputs": [
    {
     "name": "stdout",
     "output_type": "stream",
     "text": [
      "Using get Accessor\n",
      "Using set Accessor\n"
     ]
    },
    {
     "data": {
      "text/plain": [
       "'falcon'"
      ]
     },
     "execution_count": 6,
     "metadata": {},
     "output_type": "execute_result"
    }
   ],
   "source": [
    "class Bird{\n",
    "    private _name: string;\n",
    "\n",
    "    constructor(name: string){\n",
    "        this._name = name;\n",
    "    }\n",
    "\n",
    "    //Accessors are only available when targeting ECMAScript 5 and higher\n",
    "    get name(){\n",
    "        console.log(\"Using get Accessor\");\n",
    "        return this._name;\n",
    "    }\n",
    "\n",
    "    set name(value: string){\n",
    "        console.log(\"Using set Accessor\");\n",
    "        this._name = value;\n",
    "    }\n",
    "}\n",
    "\n",
    "var bird = new Bird(\"Eagle\");\n",
    "// Property '_name' is private and only accessible within class 'Bird'.\n",
    "// bird._name;\n",
    "\n",
    "bird.name;\n",
    "bird.name = \"falcon\""
   ]
  },
  {
   "cell_type": "markdown",
   "id": "fb5191db",
   "metadata": {},
   "source": [
    "## 泛型\n",
    "* template\n",
    "    * 模板函数，可以类型推断\n",
    "    * T 可以实现interface\n",
    "* 类"
   ]
  },
  {
   "cell_type": "code",
   "execution_count": 8,
   "id": "07977ee6",
   "metadata": {},
   "outputs": [
    {
     "data": {
      "text/plain": [
       "undefined"
      ]
     },
     "execution_count": 8,
     "metadata": {},
     "output_type": "execute_result"
    }
   ],
   "source": [
    "function fn<T>(a: T): T{\n",
    "    return a;\n",
    "}\n",
    "\n",
    "fn(10);\n",
    "fn<string>(\"10\");\n",
    "\n",
    "interface Inter {\n",
    "    length: number;\n",
    "}\n",
    "\n",
    "function fn2<T extends Inter>(a: T): number{\n",
    "    return a.length;\n",
    "}\n",
    "\n",
    "fn2([1, 2, 3]);"
   ]
  },
  {
   "cell_type": "markdown",
   "id": "8ea77df1",
   "metadata": {},
   "source": [
    "### 模板类"
   ]
  },
  {
   "cell_type": "code",
   "execution_count": 9,
   "id": "78933e72",
   "metadata": {},
   "outputs": [
    {
     "data": {
      "text/plain": [
       "undefined"
      ]
     },
     "execution_count": 9,
     "metadata": {},
     "output_type": "execute_result"
    }
   ],
   "source": [
    "class Book<T> {\n",
    "    name: T;\n",
    "    constructor(name: T){\n",
    "        this.name = name;\n",
    "    }\n",
    "}\n",
    "\n",
    "const book = new Book<string>(\"On the road\");"
   ]
  },
  {
   "cell_type": "markdown",
   "id": "ad3f1527",
   "metadata": {},
   "source": [
    "## 装饰器\n",
    "### 类别\n",
    "* 类装饰器\n",
    "* 属性装饰器\n",
    "* 方法装饰器\n",
    "* 参数装饰器\n",
    "\n",
    "#### 写法\n",
    "* 普通装饰器\n",
    "    * 无法传参\n",
    "* 装饰器工厂\n",
    "    * 可以传参"
   ]
  },
  {
   "cell_type": "code",
   "execution_count": 26,
   "id": "0df7da71",
   "metadata": {},
   "outputs": [
    {
     "name": "stdout",
     "output_type": "stream",
     "text": [
      "[class HttpClient]\n",
      "动态扩展的属性 prototype.apiUrl\n"
     ]
    },
    {
     "data": {
      "text/plain": [
       "undefined"
      ]
     },
     "execution_count": 26,
     "metadata": {},
     "output_type": "execute_result"
    }
   ],
   "source": [
    "(function(){\n",
    "\n",
    "function logClass(params:any){\n",
    "    // params 是当前被包装的类\n",
    "    console.log(params);\n",
    "\n",
    "    // 给被包装的类扩展属性\n",
    "    params.prototype.apiUrl = \"动态扩展的属性 prototype.apiUrl\";\n",
    "}\n",
    "\n",
    "@logClass\n",
    "class HttpClient{}\n",
    "\n",
    "//TS2339: Property 'apiUrl' does not exist on type 'HttpClient'.\n",
    "// var http = new HttpClient()\n",
    "\n",
    "var http:any = new HttpClient()\n",
    "console.log(http.apiUrl)\n",
    "\n",
    "})();"
   ]
  },
  {
   "cell_type": "markdown",
   "id": "62164305",
   "metadata": {},
   "source": [
    "##### 装饰器工厂"
   ]
  },
  {
   "cell_type": "code",
   "execution_count": 25,
   "id": "be9f170b",
   "metadata": {},
   "outputs": [
    {
     "name": "stdout",
     "output_type": "stream",
     "text": [
      "[class HttpClient]\n",
      "给装饰工厂传递的参数：http:://google.com\n",
      "http:://google.com\n"
     ]
    },
    {
     "data": {
      "text/plain": [
       "undefined"
      ]
     },
     "execution_count": 25,
     "metadata": {},
     "output_type": "execute_result"
    }
   ],
   "source": [
    "(function(){\n",
    "\n",
    "function logClass(params:string){\n",
    "    \n",
    "    return function(target:any){\n",
    "        console.log(target);\n",
    "        \n",
    "        console.log(\"给装饰工厂传递的参数：\" + params);\n",
    "        \n",
    "        target.prototype.apiUrl = params\n",
    "    }\n",
    "}\n",
    "\n",
    "@logClass(\"http:://google.com\")\n",
    "class HttpClient{}\n",
    "\n",
    "var http:any = new HttpClient()\n",
    "console.log(http.apiUrl)\n",
    "\n",
    "})();"
   ]
  },
  {
   "cell_type": "markdown",
   "id": "45c88882",
   "metadata": {},
   "source": [
    "##### 类装饰器"
   ]
  },
  {
   "cell_type": "code",
   "execution_count": 42,
   "id": "066a9e1f",
   "metadata": {},
   "outputs": [
    {
     "name": "stdout",
     "output_type": "stream",
     "text": [
      "[class HttpClient]\n",
      "Called origin HttpClient constructor\n",
      "Override target class attribute\n"
     ]
    },
    {
     "data": {
      "text/plain": [
       "undefined"
      ]
     },
     "execution_count": 42,
     "metadata": {},
     "output_type": "execute_result"
    }
   ],
   "source": [
    "(function(){\n",
    "\n",
    "function logClass(target:any){\n",
    "    console.log(target);\n",
    "    \n",
    "    // 这里return的class必须和target的type兼容，编译器很傻\n",
    "    // 要么强制类型转换，要么子类override父类的全部方法？都不合理啊\n",
    "    return <typeof target>class extends target{\n",
    "        apiUrl:any=\"Override target class attribute\"\n",
    "        \n",
    "        //getData(){ return super.getData();}\n",
    "    }\n",
    "}\n",
    "\n",
    "@logClass\n",
    "class HttpClient{\n",
    "    public apiUrl: string | undefined;\n",
    "    \n",
    "    constructor(){\n",
    "        console.log(\"Called origin HttpClient constructor\")\n",
    "        this.apiUrl=\"xx\";\n",
    "    }\n",
    "    \n",
    "    public getData(){\n",
    "        console.log(this.apiUrl);\n",
    "    }\n",
    "}\n",
    "\n",
    "var http = new HttpClient();\n",
    "console.log(http.apiUrl)\n",
    "})();"
   ]
  },
  {
   "cell_type": "markdown",
   "id": "77c61c63",
   "metadata": {},
   "source": [
    "##### 属性装饰器\n",
    "* 属性装饰器传入：\n",
    "    * target.prototype\n",
    "    * 属性名"
   ]
  },
  {
   "cell_type": "code",
   "execution_count": 46,
   "id": "09b67043",
   "metadata": {},
   "outputs": [
    {
     "name": "stdout",
     "output_type": "stream",
     "text": [
      "{}\n",
      "apiUrl\n",
      "www.google.com\n"
     ]
    },
    {
     "data": {
      "text/plain": [
       "undefined"
      ]
     },
     "execution_count": 46,
     "metadata": {},
     "output_type": "execute_result"
    }
   ],
   "source": [
    "(function(){\n",
    "\n",
    "function logProperty(params:string){\n",
    "    \n",
    "    return function(target:any, attr:any){\n",
    "        console.log(target);\n",
    "        \n",
    "        console.log(attr);\n",
    "        \n",
    "        // target是对象prototype的引用，可以直接修改\n",
    "        target[attr] = params\n",
    "    }\n",
    "}\n",
    "\n",
    "class HttpClient{\n",
    "    \n",
    "    @logProperty(\"www.google.com\")\n",
    "    public apiUrl: string|undefined;\n",
    "\n",
    "}\n",
    "\n",
    "var http:any = new HttpClient();\n",
    "console.log(http.apiUrl)\n",
    "})();"
   ]
  },
  {
   "cell_type": "markdown",
   "id": "d9369dde",
   "metadata": {},
   "source": [
    "#### 方法装饰器\n",
    "* 参数\n",
    "    * 被包装对象的prototype\n",
    "    * 成员名字\n",
    "    * 成员属性描述符\n",
    "        ```typescript\n",
    "        {\n",
    "          value: [Function: connect],\n",
    "          writable: true,\n",
    "          enumerable: false,\n",
    "          configurable: true\n",
    "        }\n",
    "        ```"
   ]
  },
  {
   "cell_type": "code",
   "execution_count": 65,
   "id": "0b2c8a18",
   "metadata": {},
   "outputs": [
    {
     "name": "stdout",
     "output_type": "stream",
     "text": [
      "{}\n",
      "connect\n",
      "{\n",
      "  value: [Function: connect],\n",
      "  writable: true,\n",
      "  enumerable: false,\n",
      "  configurable: true\n",
      "}\n",
      "converting arguments 123\n",
      "connecting to 123 typeof string\n"
     ]
    },
    {
     "data": {
      "text/plain": [
       "undefined"
      ]
     },
     "execution_count": 65,
     "metadata": {},
     "output_type": "execute_result"
    }
   ],
   "source": [
    "(function(){\n",
    "\n",
    "function logMethod(params:string){\n",
    "    \n",
    "    return function(target:any, methodName:any, desc:any){\n",
    "        console.log(target);        \n",
    "        console.log(methodName);\n",
    "        console.log(desc);\n",
    "        \n",
    "        // target是对象prototype的引用，可以增加method\n",
    "        // 但是感觉很扯，应该是修改被装饰method\n",
    "        // target.run = function(){}\n",
    "        \n",
    "        // 保存原方法\n",
    "        var oldMethod = desc.value;\n",
    "        \n",
    "        desc.value = function(...args:any[]){\n",
    "            args = args.map((value)=>{\n",
    "                return String(value);\n",
    "            })\n",
    "            \n",
    "            console.log(\"converting arguments \" + args)\n",
    "            \n",
    "            // 调用原方法\n",
    "            oldMethod.apply(this, args);\n",
    "        }\n",
    "    }\n",
    "}\n",
    "\n",
    "class HttpClient{\n",
    "    @logMethod(\"www.google.com\")\n",
    "    public connect(address:any): void{\n",
    "        console.log(\"connecting to \" + address + \" typeof \" + (typeof address))\n",
    "    }\n",
    "\n",
    "}\n",
    "\n",
    "var http:any = new HttpClient();\n",
    "http.connect(123)\n",
    "})();"
   ]
  },
  {
   "cell_type": "markdown",
   "id": "3439afc4",
   "metadata": {},
   "source": [
    "#### 方法参数(method argument)修饰器\n",
    "* 传入\n",
    "    * target.prototype\n",
    "    * method name\n",
    "    * argument index\n",
    "* 目的\n",
    "    * 为类的原型增加一些原数据 （why？太hack, 属性装饰器也可以实现"
   ]
  },
  {
   "cell_type": "code",
   "execution_count": 73,
   "id": "da9b0fd4",
   "metadata": {},
   "outputs": [
    {
     "name": "stdout",
     "output_type": "stream",
     "text": [
      "{}\n",
      "connect\n",
      "argumentIndex: 0\n",
      "connecting to 123\n"
     ]
    },
    {
     "data": {
      "text/plain": [
       "undefined"
      ]
     },
     "execution_count": 73,
     "metadata": {},
     "output_type": "execute_result"
    }
   ],
   "source": [
    "(function(){\n",
    "\n",
    "function logArguments(params:string){\n",
    "    \n",
    "    return function(target:any, methodName:any, argumentIndex:any){\n",
    "        console.log(target);        \n",
    "        console.log(methodName);\n",
    "        console.log(\"argumentIndex: \" + argumentIndex);\n",
    "        \n",
    "        target.apiUrl = params\n",
    "    }\n",
    "}\n",
    "\n",
    "class HttpClient{\n",
    "    \n",
    "    public connect(@logArguments(\"www.google.com\") address:any): void{\n",
    "        console.log(\"connecting to \" + address)\n",
    "    }\n",
    "\n",
    "}\n",
    "\n",
    "var http:any = new HttpClient();\n",
    "http.connect(123)\n",
    "})();"
   ]
  },
  {
   "cell_type": "markdown",
   "id": "9190dce8",
   "metadata": {},
   "source": [
    "## Webpack + TS\n",
    "#### 初始化项目\n",
    "```\n",
    "npm init -y\n",
    "```\n",
    "* 为项目生成 package.json\n",
    "\n",
    "```json\n",
    "{\n",
    "  \"name\": \"ts\",\n",
    "  \"version\": \"1.0.0\",\n",
    "  \"description\": \"\",\n",
    "  \"main\": \"index.js\",\n",
    "  \"scripts\": {\n",
    "    \"test\": \"echo \\\"Error: no test specified\\\" && exit 1\",\n",
    "    \"build\": \"webpack\"\n",
    "  },\n",
    "  \"keywords\": [],\n",
    "  \"author\": \"\",\n",
    "  \"license\": \"ISC\",\n",
    "\n",
    "  \"devDependencies\": {\n",
    "    \"webpack\": \"^5.51.1\",\n",
    "    \"typescript\": \"^4.4.2\",\n",
    "    \"webpack-cli\": \"^4.8.0\",\n",
    "    \"ts-loader\": \"^9.2.5\"\n",
    "  }\n",
    "}\n",
    "```\n",
    "\n",
    "\n",
    "#### 安装webpack\n",
    "* cnpm i -D webpack webpack-cli ts-loader\n",
    "    * 项目里的node_modules路径下安装所有依赖\n",
    "\n",
    "#### 配置webpack\n",
    "##### webpack.config.js\n",
    "```javascript\n",
    "const path = require(\"path\")\n",
    "\n",
    "// webpack中的所有配置信息，都写在exports里，导出\n",
    "module.exports = {\n",
    "    resolve: {\n",
    "        extensions: ['.ts']\n",
    "    },\n",
    "\n",
    "    // 入口文件\n",
    "    entry: './src/index.ts',\n",
    "\n",
    "    // 打包文件所在目录\n",
    "    output: {\n",
    "        path: path.resolve(__dirname, 'dist'),\n",
    "\n",
    "        // 打包后的文件\n",
    "        filename: \"bundle.js\"\n",
    "    },\n",
    "\n",
    "    module: {\n",
    "        rules: [\n",
    "            {\n",
    "                //指定规则生效的文件\n",
    "                test: /\\.ts$/,\n",
    "\n",
    "                //指定loader\n",
    "                use: 'ts-loader',\n",
    "\n",
    "                exclude: /node-modules/\n",
    "            }\n",
    "        ]\n",
    "    }\n",
    "};\n",
    "    \n",
    "```\n",
    "\n",
    "\n",
    "#### build\n",
    "* npm run build\n",
    "* 生成目标bundle.js文件\n",
    "\n",
    "```text\n",
    "- node_modules\n",
    "- src\n",
    "    - index.ts\n",
    "- dist\n",
    "    - bundle.js\n",
    "- package.json\n",
    "- tsconfig.json\n",
    "- webpack.config.js\n",
    "```\n",
    "\n",
    "#### 自动生成html\n",
    "* npm install html-webpack-plugin"
   ]
  },
  {
   "cell_type": "code",
   "execution_count": null,
   "id": "83a55f19",
   "metadata": {},
   "outputs": [],
   "source": []
  },
  {
   "cell_type": "code",
   "execution_count": null,
   "id": "04af76c8",
   "metadata": {},
   "outputs": [],
   "source": []
  }
 ],
 "metadata": {
  "kernelspec": {
   "display_name": "Typescript 4.3",
   "language": "typescript",
   "name": "typescript"
  },
  "language_info": {
   "file_extension": ".ts",
   "mimetype": "application/x-typescript",
   "name": "typescript",
   "version": "4.3.5"
  }
 },
 "nbformat": 4,
 "nbformat_minor": 5
}
