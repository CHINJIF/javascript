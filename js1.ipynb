{
 "cells": [
  {
   "cell_type": "markdown",
   "id": "f298e94a",
   "metadata": {},
   "source": [
    "## JS 基础\n",
    "#### JS组成\n",
    "* ECMAScript： \n",
    "    * 解释器\n",
    "* DOM文档：\n",
    "    * Docuement Object Model\n",
    "    * HTML的文本结构，可以轻松对HTML增删改插\n",
    "* BOM:\n",
    "    * Browser Object Model\n",
    "    * window是BOM具体的对象\n",
    "    * 是JS能够操作**浏览器**本身\n",
    "\n",
    "\n",
    "||ECMA|DOM|BOM|\n",
    "|---|---|---|---|\n",
    "|兼容性|几乎没有兼容性问题|有一些操作不兼容|完全不兼容|\n",
    "\n",
    "#### 变量类型\n",
    "* typeof\n",
    "* undifined\n",
    "    * 变量没有定义\n",
    "    * JS变量是无类型的，当变量没有初始化那也是undifined\n",
    "* 常见类型:\n",
    "    * number, string, boolean, function, object, undefined\n",
    "\n",
    "    "
   ]
  },
  {
   "cell_type": "code",
   "execution_count": 127,
   "id": "36b45232",
   "metadata": {},
   "outputs": [
    {
     "name": "stdout",
     "output_type": "stream",
     "text": [
      "number\n",
      "string\n",
      "boolean\n",
      "function\n",
      "变量没有定义是： undefined\n",
      "变量没有初始化是： undefined\n"
     ]
    },
    {
     "data": {
      "text/plain": [
       "undefined"
      ]
     },
     "execution_count": 127,
     "metadata": {},
     "output_type": "execute_result"
    }
   ],
   "source": [
    "var num = 12, str = \"hello\", bool = true;\n",
    "console.log(typeof num)\n",
    "console.log(typeof str)\n",
    "console.log(typeof bool)\n",
    "\n",
    "//window, document is a browser thing that doesn't exist on Node.\n",
    "// var doc = document //ReferenceError: document is not defined\n",
    "\n",
    "var fun = function(){};\n",
    "console.log(typeof fun)\n",
    "\n",
    "console.log(\"变量没有定义是：\", typeof not_defined)\n",
    "\n",
    "var not_initialized\n",
    "console.log(\"变量没有初始化是：\", typeof not_initialized)"
   ]
  },
  {
   "cell_type": "markdown",
   "id": "20532c5c",
   "metadata": {},
   "source": [
    "#### 数据类型转换\n",
    "##### 显式类型转换 (强制类型转换)\n",
    "###### ParseInt\n",
    "* 逻辑：从左到右parse string，遇到非数字停止\n",
    "* 字符串无数字，返回NaN\n",
    "* 转化整数\n",
    "\n",
    "###### parseFloat"
   ]
  },
  {
   "cell_type": "code",
   "execution_count": 125,
   "id": "0890363d",
   "metadata": {},
   "outputs": [
    {
     "name": "stdout",
     "output_type": "stream",
     "text": [
      "parseInt 12:       12\n",
      "parseInt 3.5:      3\n",
      "parseInt 12px:     12\n",
      "parseInt 12px34:   12\n",
      "parseInt px34:     NaN\n",
      "parseInt aaaa:     NaN\n"
     ]
    },
    {
     "data": {
      "text/plain": [
       "undefined"
      ]
     },
     "execution_count": 125,
     "metadata": {},
     "output_type": "execute_result"
    }
   ],
   "source": [
    "var a = '12'\n",
    "console.log(\"parseInt 12:      \", parseInt(a))\n",
    "\n",
    "a = '3.5'\n",
    "console.log(\"parseInt 3.5:     \", parseInt(a))\n",
    "\n",
    "a = '12px'\n",
    "console.log(\"parseInt 12px:    \", parseInt(a))\n",
    "\n",
    "a = '12px34'\n",
    "console.log(\"parseInt 12px34:  \", parseInt(a))\n",
    "\n",
    "a = 'px34'\n",
    "console.log(\"parseInt px34:    \", parseInt(a))\n",
    "\n",
    "a = 'aaaa'\n",
    "console.log(\"parseInt aaaa:    \", parseInt(a)) // NaN: Not a Number"
   ]
  },
  {
   "cell_type": "markdown",
   "id": "50ed113a",
   "metadata": {},
   "source": [
    "##### 隐式类型转换\n",
    "* ==\n",
    "    * 先转换类型，然后比较\n",
    "* ===\n",
    "    * 全等，不转换类型，比较\n",
    "* \\- operator\n",
    "    * 字符串没有重载 - operator，做了隐式类型转换"
   ]
  },
  {
   "cell_type": "code",
   "execution_count": 130,
   "id": "b18429a3",
   "metadata": {},
   "outputs": [
    {
     "name": "stdout",
     "output_type": "stream",
     "text": [
      "int 5 == str 5     true\n",
      "int 5 === str 5    false\n",
      "\n",
      "- operator: \n",
      "str 5 + str 3 =  53\n",
      "str 5 - str 3 =  2\n"
     ]
    },
    {
     "data": {
      "text/plain": [
       "undefined"
      ]
     },
     "execution_count": 130,
     "metadata": {},
     "output_type": "execute_result"
    }
   ],
   "source": [
    "var a=5, b='5'\n",
    "console.log(\"int 5 == str 5    \", a==b)\n",
    "\n",
    "console.log(\"int 5 === str 5   \", a===b)\n",
    "\n",
    "console.log(\"\\n- operator: \")\n",
    "var a = '5', b = '3'\n",
    "console.log('str 5 + str 3 = ', a+b)\n",
    "\n",
    "console.log('str 5 - str 3 = ', a-b) "
   ]
  },
  {
   "cell_type": "markdown",
   "id": "0824cdaf",
   "metadata": {},
   "source": [
    "#### NaN\n",
    "* Not a Number\n",
    "* NaN + number == NaN\n",
    "* NaN和NaN不相等\n",
    "* isNaN() 用该函数判断变量是否NaN"
   ]
  },
  {
   "cell_type": "code",
   "execution_count": 41,
   "id": "036feb5e",
   "metadata": {},
   "outputs": [
    {
     "name": "stdout",
     "output_type": "stream",
     "text": [
      "parseInt('Hello') ?= parseInt('Hello'): false\n"
     ]
    },
    {
     "data": {
      "text/plain": [
       "undefined"
      ]
     },
     "execution_count": 41,
     "metadata": {},
     "output_type": "execute_result"
    }
   ],
   "source": [
    "console.log(\"parseInt('Hello') ?= parseInt('Hello'): \" \n",
    "            + (parseInt('Hello') == parseInt('Hello')))"
   ]
  },
  {
   "cell_type": "markdown",
   "id": "295d9044",
   "metadata": {},
   "source": [
    "#### 变量作用域和闭包\n",
    "* 局部变量\n",
    "* 全局变量\n",
    "* 闭包\n",
    "    * 子函数可以访问父函数的局部变量"
   ]
  },
  {
   "cell_type": "code",
   "execution_count": 72,
   "id": "edb8fb53",
   "metadata": {},
   "outputs": [
    {
     "name": "stdout",
     "output_type": "stream",
     "text": [
      "123\n"
     ]
    },
    {
     "data": {
      "text/plain": [
       "undefined"
      ]
     },
     "execution_count": 72,
     "metadata": {},
     "output_type": "execute_result"
    }
   ],
   "source": [
    "// 闭包\n",
    "function foo()\n",
    "{\n",
    "    var a = 123;\n",
    "    function innerFoo()\n",
    "    {\n",
    "        console.log(a);\n",
    "    }\n",
    "\n",
    "    innerFoo();\n",
    "}\n",
    "\n",
    "foo()"
   ]
  },
  {
   "cell_type": "markdown",
   "id": "e1d94970",
   "metadata": {},
   "source": [
    "#### 运算符\n",
    "* 算数\n",
    "    * +，-，*，/，%\n",
    "    * /可以除出小数\n",
    "* 赋值\n",
    "    * =， +=，\n",
    "* 关系\n",
    "    * ==， ===， !=, !==\n",
    "* 逻辑\n",
    "    * &&, ||, !\n",
    "* 运算符优先级\n",
    "    * ()"
   ]
  },
  {
   "cell_type": "code",
   "execution_count": 73,
   "id": "5aa2202f",
   "metadata": {},
   "outputs": [
    {
     "name": "stdout",
     "output_type": "stream",
     "text": [
      "12/5 = 2.4\n"
     ]
    },
    {
     "data": {
      "text/plain": [
       "undefined"
      ]
     },
     "execution_count": 73,
     "metadata": {},
     "output_type": "execute_result"
    }
   ],
   "source": [
    "console.log(\"12/5 = \" + (12/5))"
   ]
  },
  {
   "cell_type": "markdown",
   "id": "f1c708e1",
   "metadata": {},
   "source": [
    "#### 真，假\n",
    "* true\n",
    "    * 非0数字\n",
    "    * 非空字符串\n",
    "    * 非空对象\n",
    "* false\n",
    "    * 数字0\n",
    "    * 空字符串\n",
    "    * NaN\n",
    "    * null\n",
    "    * undefined"
   ]
  },
  {
   "cell_type": "markdown",
   "id": "f036dab9",
   "metadata": {},
   "source": [
    "#### JSON"
   ]
  },
  {
   "cell_type": "code",
   "execution_count": 124,
   "id": "0a70bc07",
   "metadata": {},
   "outputs": [
    {
     "name": "stdout",
     "output_type": "stream",
     "text": [
      "Paul\n",
      "json length:  undefined\n",
      "key not exist, get:  undefined\n"
     ]
    },
    {
     "data": {
      "text/plain": [
       "undefined"
      ]
     },
     "execution_count": 124,
     "metadata": {},
     "output_type": "execute_result"
    }
   ],
   "source": [
    "var jsonObject = {\n",
    "    name:\"Paul\",\n",
    "    age: 5,\n",
    "    city: \"Xian\"\n",
    "};\n",
    "\n",
    "console.log(jsonObject[\"name\"])\n",
    "console.log(\"json length: \", jsonObject.length)\n",
    "console.log(\"key not exist, get: \", jsonObject[\"noKey\"])"
   ]
  },
  {
   "cell_type": "markdown",
   "id": "fe1d0c02",
   "metadata": {},
   "source": [
    "###### 遍历JSON"
   ]
  },
  {
   "cell_type": "code",
   "execution_count": 102,
   "id": "848292fb",
   "metadata": {},
   "outputs": [
    {
     "name": "stdout",
     "output_type": "stream",
     "text": [
      "name\n",
      "age\n",
      "city\n"
     ]
    },
    {
     "data": {
      "text/plain": [
       "undefined"
      ]
     },
     "execution_count": 102,
     "metadata": {},
     "output_type": "execute_result"
    }
   ],
   "source": [
    "for(key in jsonObject){\n",
    "    console.log(key)\n",
    "}"
   ]
  },
  {
   "cell_type": "markdown",
   "id": "1a6bfc9c",
   "metadata": {},
   "source": [
    "#### Array\n",
    "* range: range iterate的还是下标，不是值"
   ]
  },
  {
   "cell_type": "code",
   "execution_count": 101,
   "id": "5ae33ac4",
   "metadata": {},
   "outputs": [
    {
     "name": "stdout",
     "output_type": "stream",
     "text": [
      "0\n",
      "1\n",
      "2\n"
     ]
    },
    {
     "data": {
      "text/plain": [
       "undefined"
      ]
     },
     "execution_count": 101,
     "metadata": {},
     "output_type": "execute_result"
    }
   ],
   "source": [
    "var arr = [1, 2, 3]\n",
    "for(a in arr){\n",
    "    console.log(a)\n",
    "}"
   ]
  },
  {
   "cell_type": "markdown",
   "id": "dc2e0ed4",
   "metadata": {},
   "source": [
    "## 深入JS\n",
    "#### 函数\n",
    "###### 返回值\n",
    "* function 无return，或者return 空，返回值为undefined\n",
    "###### 参数\n",
    "* 可变参数/不定参数\n",
    "    * arguments\n",
    "    * arguments wrap 所有参数为一个数组，但他不是数组类型！"
   ]
  },
  {
   "cell_type": "code",
   "execution_count": 119,
   "id": "14526688",
   "metadata": {},
   "outputs": [
    {
     "name": "stdout",
     "output_type": "stream",
     "text": [
      "argeuments.length: 3\n"
     ]
    },
    {
     "data": {
      "text/plain": [
       "6"
      ]
     },
     "execution_count": 119,
     "metadata": {},
     "output_type": "execute_result"
    }
   ],
   "source": [
    "function sum(){\n",
    "    console.log(\"argeuments.length: \" + (arguments.length));\n",
    "    var args = Array.from(arguments);\n",
    "    return args.reduce(function (accumulator, curr) {\n",
    "                return accumulator + curr;});\n",
    "}\n",
    "\n",
    "sum(1, 2, 3);"
   ]
  },
  {
   "cell_type": "markdown",
   "id": "2af16fd5",
   "metadata": {},
   "source": [
    "### 数组\n",
    "* length 可读可写\n",
    "    * 数组清零，Array.length = 0\n",
    "* push, pop\n",
    "    * 数组尾部操作\n",
    "* unshift, shift\n",
    "    * 数组头部操作"
   ]
  },
  {
   "cell_type": "code",
   "execution_count": 136,
   "id": "5e0bc61b",
   "metadata": {},
   "outputs": [
    {
     "name": "stdout",
     "output_type": "stream",
     "text": [
      "Array type:  object\n",
      "[ 9, 1, 2, 3 ]\n"
     ]
    },
    {
     "data": {
      "text/plain": [
       "undefined"
      ]
     },
     "execution_count": 136,
     "metadata": {},
     "output_type": "execute_result"
    }
   ],
   "source": [
    "var arr = [1,2,3]\n",
    "arr = new Array(1, 2, 3)\n",
    "console.log(\"Array type: \", typeof arr)\n",
    "\n",
    "arr.push(5)\n",
    "arr.pop()\n",
    "arr.unshift(9)\n",
    "console.log(arr)"
   ]
  },
  {
   "cell_type": "markdown",
   "id": "afba1160",
   "metadata": {},
   "source": [
    "#### 插入，删除\n",
    "* splice\n",
    "    * 删除 Array.splice(start, length);\n",
    "    * 插入 Array.splice(start, 0, ele, ele);\n",
    "    * 替换 Array.splice(start, lenght, ele, ele);\n",
    "* 数组链接\n",
    "    * concat\n",
    "* join\n",
    "* sort"
   ]
  },
  {
   "cell_type": "code",
   "execution_count": 162,
   "id": "edd17c47",
   "metadata": {},
   "outputs": [
    {
     "name": "stdout",
     "output_type": "stream",
     "text": [
      "[ 1, 4, 5, 3 ]\n",
      "[ 1, 1, 1, 1 ]\n",
      "concat:  [ 1, 1, 1, 1, 3, 4 ]\n",
      "jion:  1-1-1-1\n"
     ]
    },
    {
     "data": {
      "text/plain": [
       "undefined"
      ]
     },
     "execution_count": 162,
     "metadata": {},
     "output_type": "execute_result"
    }
   ],
   "source": [
    "var arr = [1, 2, 3];\n",
    "arr.splice(1, 1);\n",
    "arr.splice(1, 0, 4, 5);\n",
    "console.log(arr);\n",
    "\n",
    "arr.splice(1, 3, 1, 1, 1);\n",
    "console.log(arr);\n",
    "\n",
    "arr2 = [3, 4]\n",
    "console.log(\"concat: \", arr.concat(arr2))\n",
    "\n",
    "console.log(\"jion: \", arr.join(\"-\"));"
   ]
  },
  {
   "cell_type": "code",
   "execution_count": 157,
   "id": "1236b7bd",
   "metadata": {},
   "outputs": [
    {
     "name": "stdout",
     "output_type": "stream",
     "text": [
      "Array sort number by string:  [ 112, 12, 19, 8, 99 ]\n",
      "[ 8, 12, 19, 99, 112 ]\n"
     ]
    },
    {
     "data": {
      "text/plain": [
       "undefined"
      ]
     },
     "execution_count": 157,
     "metadata": {},
     "output_type": "execute_result"
    }
   ],
   "source": [
    "var arr = [12, 8, 99, 19, 112]\n",
    "console.log(\"Array sort number by string: \", arr.sort())\n",
    "\n",
    "arr.sort(function(prev, cur) {\n",
    "    return prev - cur;\n",
    "})\n",
    "console.log(arr)"
   ]
  },
  {
   "cell_type": "markdown",
   "id": "c4c11e97",
   "metadata": {},
   "source": [
    "## 定时器\n",
    "* setInterval\n",
    "* setTimeout\n",
    "* clearInterval"
   ]
  },
  {
   "cell_type": "code",
   "execution_count": 5,
   "id": "0beb0e59",
   "metadata": {},
   "outputs": [
    {
     "name": "stdout",
     "output_type": "stream",
     "text": [
      "2021-08-18T10:07:16.890Z\n"
     ]
    },
    {
     "data": {
      "text/plain": [
       "undefined"
      ]
     },
     "execution_count": 5,
     "metadata": {},
     "output_type": "execute_result"
    }
   ],
   "source": [
    "var date = new Date();\n",
    "console.log(date)"
   ]
  },
  {
   "cell_type": "markdown",
   "id": "8d69c1fc",
   "metadata": {},
   "source": [
    "## JS面向对象\n",
    "* 继承\n",
    "    * 多重继承\n",
    "* this\n",
    "    * 全局的this属于window\n",
    "* object\n",
    "* new keyword\n",
    "    * 对函数使用new，系统会自动创建object，把this指向该对象，并返回this\n",
    "\n",
    "#### No1. 工厂方式构造object\n",
    "* 缺点\n",
    "    * 不支持 new\n",
    "    * 方法不是static，而是给每一个实例重新创建，浪费资源；靠prototype解决"
   ]
  },
  {
   "cell_type": "code",
   "execution_count": 19,
   "id": "495a45ca",
   "metadata": {},
   "outputs": [
    {
     "name": "stdout",
     "output_type": "stream",
     "text": [
      "Does Object methods shared among instance ?  false\n"
     ]
    },
    {
     "data": {
      "text/plain": [
       "undefined"
      ]
     },
     "execution_count": 19,
     "metadata": {},
     "output_type": "execute_result"
    }
   ],
   "source": [
    "function createPerson(name){\n",
    "    var obj = new Object();\n",
    "\n",
    "    obj.name = name;\n",
    "\n",
    "    obj.showName = function (){\n",
    "        console.log(this.name)\n",
    "    }\n",
    "\n",
    "    return obj;\n",
    "}\n",
    "\n",
    "obj = createPerson(\"Paul\");\n",
    "obj2 = createPerson(\"Mark\");\n",
    "console.log(\"Does Object methods shared among instance ? \", \n",
    "            obj.showName == obj2.showName)"
   ]
  },
  {
   "cell_type": "markdown",
   "id": "ba5afcb1",
   "metadata": {},
   "source": [
    "####  No.2 混合方式\n",
    "* 混合的构造函数/原型方式\n",
    "    * 构造函数：加属性\n",
    "    * 原型：加方法"
   ]
  },
  {
   "cell_type": "code",
   "execution_count": 29,
   "id": "4873bbc3",
   "metadata": {},
   "outputs": [
    {
     "name": "stdout",
     "output_type": "stream",
     "text": [
      "Paul\n"
     ]
    },
    {
     "data": {
      "text/plain": [
       "undefined"
      ]
     },
     "execution_count": 29,
     "metadata": {},
     "output_type": "execute_result"
    }
   ],
   "source": [
    "function Person(name){\n",
    "    //如果对构造函数使用new关键字\n",
    "    //系统会自动从创建object，并把this指向该对象\n",
    "    // var obj = new Object;\n",
    "    this.name = name;\n",
    "\n",
    "    // return this;\n",
    "}\n",
    "\n",
    "Person.prototype.showName = function (){\n",
    "    console.log(this.name)\n",
    "}\n",
    "    \n",
    "var person = new Person(\"Paul\")\n",
    "person.showName()"
   ]
  },
  {
   "cell_type": "markdown",
   "id": "013f3259",
   "metadata": {},
   "source": [
    "#### No3. 利用JSON\n",
    "* 单体，整个程序里只有一个 singleton？\n",
    "* 不适合多个对象，都是写死的\n",
    "* 可以用于实现namespace"
   ]
  },
  {
   "cell_type": "code",
   "execution_count": 4,
   "id": "62db040d",
   "metadata": {},
   "outputs": [
    {
     "name": "stdout",
     "output_type": "stream",
     "text": [
      "Paul\n"
     ]
    },
    {
     "data": {
      "text/plain": [
       "undefined"
      ]
     },
     "execution_count": 4,
     "metadata": {},
     "output_type": "execute_result"
    }
   ],
   "source": [
    "var person = {\n",
    "    name: \"Paul\",\n",
    "    \n",
    "    showName: function (){\n",
    "        console.log(this.name);\n",
    "    }\n",
    "}\n",
    "\n",
    "person.showName();"
   ]
  },
  {
   "cell_type": "code",
   "execution_count": 6,
   "id": "761cd668",
   "metadata": {},
   "outputs": [
    {
     "data": {
      "text/plain": [
       "'domain1'"
      ]
     },
     "execution_count": 6,
     "metadata": {},
     "output_type": "execute_result"
    }
   ],
   "source": [
    "app = {\n",
    "    domain1 : {},\n",
    "    domain2 : {}\n",
    "}\n",
    "\n",
    "app.domain1.getName = function(){\n",
    "    return \"domain1\";\n",
    "}\n",
    "\n",
    "app.domain2.getName = function(){\n",
    "    return \"domain2\";\n",
    "}\n",
    "\n",
    "app.domain1.getName()"
   ]
  },
  {
   "cell_type": "markdown",
   "id": "fbfcea5f",
   "metadata": {},
   "source": [
    "### 继承"
   ]
  },
  {
   "cell_type": "code",
   "execution_count": 30,
   "id": "004f35c3",
   "metadata": {},
   "outputs": [
    {
     "data": {
      "text/plain": [
       "[Function (anonymous)]"
      ]
     },
     "execution_count": 30,
     "metadata": {},
     "output_type": "execute_result"
    }
   ],
   "source": [
    "function Base(){\n",
    "    this.number = 12;\n",
    "}\n",
    "\n",
    "Base.prototype.show = function (){\n",
    "    console.log(this.number);\n",
    "}\n",
    "\n",
    "function Derived(){\n",
    "    //构造parent\n",
    "    Base.call(this);\n",
    "}\n",
    "\n",
    "// Derived.prototype = Base.prototype;\n",
    "// deep copy否则和后续对Base原型的修改还会影响Derived\n",
    "// 如何处理prototype里的嵌套类型？\n",
    "for(var i in Base.prototype){\n",
    "    Derived.prototype[i] = Base.prototype[i];\n",
    "}"
   ]
  },
  {
   "cell_type": "code",
   "execution_count": 42,
   "id": "59db1346",
   "metadata": {},
   "outputs": [
    {
     "name": "stdout",
     "output_type": "stream",
     "text": [
      "Derived has show?  true\n",
      "Derived has foo?  false\n"
     ]
    },
    {
     "data": {
      "text/plain": [
       "undefined"
      ]
     },
     "execution_count": 42,
     "metadata": {},
     "output_type": "execute_result"
    }
   ],
   "source": [
    "var derived = new Derived();\n",
    "\n",
    "Base.prototype.foo = function(){\n",
    "    console.log(\"hello\");\n",
    "}\n",
    "\n",
    "console.log(\"Derived has show? \", \"show\" in Derived.prototype)\n",
    "console.log(\"Derived has foo? \", \"foo\" in Derived.prototype)"
   ]
  },
  {
   "cell_type": "markdown",
   "id": "d6162e4a",
   "metadata": {},
   "source": [
    "### 系统对象\n",
    "* 本地对象（非静态对象）\n",
    "    * Object, Function, Array, String, Boolean, Number, Date, RegExp, Error\n",
    "* 内置对象（静态对象）\n",
    "    * Global, Math\n",
    "* 宿主对象（浏览器提供的对象/NodeJs）\n",
    "    * DOM, BOM"
   ]
  },
  {
   "cell_type": "markdown",
   "id": "3690af5f",
   "metadata": {},
   "source": [
    "#### 其他\n",
    "* 深拷贝\n",
    "    * JSON.parse(JSON.stringify(a))\n",
    "* call\n",
    "    * foo(args) 等价于 foo.call(this, args)"
   ]
  },
  {
   "cell_type": "code",
   "execution_count": 44,
   "id": "de2b4f94",
   "metadata": {},
   "outputs": [
    {
     "data": {
      "text/plain": [
       "'${name}=${value};expires=${expireDate}'"
      ]
     },
     "execution_count": 44,
     "metadata": {},
     "output_type": "execute_result"
    }
   ],
   "source": [
    "name=\"abc\"\n",
    "\"${name}=${value};expires=${expireDate}\""
   ]
  },
  {
   "cell_type": "code",
   "execution_count": null,
   "id": "cf68ed9b",
   "metadata": {},
   "outputs": [],
   "source": []
  }
 ],
 "metadata": {
  "kernelspec": {
   "display_name": "Javascript (Node.js)",
   "language": "javascript",
   "name": "javascript"
  },
  "language_info": {
   "file_extension": ".js",
   "mimetype": "application/javascript",
   "name": "javascript",
   "version": "14.17.5"
  }
 },
 "nbformat": 4,
 "nbformat_minor": 5
}
