{
 "cells": [
  {
   "cell_type": "markdown",
   "id": "7355aae5",
   "metadata": {},
   "source": [
    "## JavaScript 简介\n",
    "### 历史\n",
    "- NetScape开发LiveScript为其浏览器Navigator服务\n",
    "- Microsoft 开发JScript为IE服务\n",
    "- JavaScript, Jscript ECMA-Script规范\n",
    "\n",
    "### JS特点\n",
    "- 运行在浏览器端\n",
    "- JS是一门事件驱动的编程语言\n",
    "    - 鼠标点击事件：click\n",
    "    - handle/callback（句柄）：onclick"
   ]
  },
  {
   "cell_type": "markdown",
   "id": "5f3e05bd",
   "metadata": {},
   "source": [
    "### JS嵌入HTML的方式\n",
    "##### No. 1\n",
    "代码直接嵌入再HTML的标签中，e.g. onclick='JS code'\n",
    "\n",
    "```javascript\n",
    "<input type=\"button\" onclick=\"window.alert('Hello')\"/>\n",
    "```\n",
    "- JS中有一个内置的对象--window，代表浏览器对象\n",
    "- window对象有一个函数 alert，可以实现弹窗"
   ]
  },
  {
   "cell_type": "code",
   "execution_count": 15,
   "id": "50104d8d",
   "metadata": {},
   "outputs": [
    {
     "data": {
      "text/html": [
       "<html>\n",
       "    <input type=\"button\" value=\"hello JS\" onclick=\"window.alert('hellp JS')\"/>\n",
       "</html>\n"
      ],
      "text/plain": [
       "<IPython.core.display.HTML object>"
      ]
     },
     "metadata": {},
     "output_type": "display_data"
    }
   ],
   "source": [
    "%%HTML\n",
    "<html>\n",
    "    <input type=\"button\" value=\"hello JS\" onclick=\"window.alert('hellp JS')\"/>\n",
    "</html>"
   ]
  },
  {
   "cell_type": "markdown",
   "id": "ac776317",
   "metadata": {},
   "source": [
    "##### No.2 脚本块\n",
    "- 暴露在脚本块当中的程序，在页面打开的时候运行。"
   ]
  },
  {
   "cell_type": "code",
   "execution_count": 22,
   "id": "2c879601",
   "metadata": {},
   "outputs": [
    {
     "data": {
      "text/html": [
       "<html>\n",
       "    <!--样式块-->\n",
       "    <style type=\"text/css\"></style>\n",
       "    <body>\n",
       "        <!--代码块-->\n",
       "        <script type=\"text/javascript\">\n",
       "        // alert会阻塞当前页面加载，后面的button在alert完成后才能看到\n",
       "        window.alert(\"Hello JS\");  \n",
       "        </script>\n",
       "        \n",
       "        <input type=\"button\" value=\"After JS code finish then show\"/>\n",
       "    </body>\n",
       "</html>\n"
      ],
      "text/plain": [
       "<IPython.core.display.HTML object>"
      ]
     },
     "metadata": {},
     "output_type": "display_data"
    }
   ],
   "source": [
    "%%HTML\n",
    "<html>\n",
    "    <!--样式块-->\n",
    "    <style type=\"text/css\"></style>\n",
    "    <body>\n",
    "        <!--代码块-->\n",
    "        <script type=\"text/javascript\">\n",
    "        // alert会阻塞当前页面加载，后面的button在alert完成后才能看到\n",
    "        // 验证代码块的运行顺序 -- 自上而下逐一运行\n",
    "        window.alert(\"Hello JS\");  \n",
    "        </script>\n",
    "        \n",
    "        <input type=\"button\" value=\"After JS code finish then show\"/>\n",
    "    </body>\n",
    "</html>"
   ]
  },
  {
   "cell_type": "markdown",
   "id": "9faefb79",
   "metadata": {},
   "source": [
    "##### No.3 引入js文件"
   ]
  },
  {
   "cell_type": "markdown",
   "id": "bc282534",
   "metadata": {},
   "source": []
  },
  {
   "cell_type": "markdown",
   "id": "5df27ada",
   "metadata": {},
   "source": [
    "# DOM\n",
    "\n",
    "||IE|Chrome|FF|\n",
    "|---|---|---|---|\n",
    "|DOM支持|10%|60%|99%|\n",
    "\n",
    "#### DOM节点\n",
    "* 子节点\n",
    "    * childNodes 包含文本节点和元素节点\n",
    "    * children 只包含元素节点\n",
    "    * nodeType\n",
    "* 父节点\n",
    "    * parentNode\n",
    "    * offsetParent 用于相对定位的parent\n",
    "* 首尾子节点\n",
    "    * 有兼容性问题\n",
    "    * firstChild，firstElementChild\n",
    "    * lastChild, lastElementChild\n",
    "* 兄弟节点\n",
    "    * nextSibling, nextElementSibling\n",
    "    * previousSibling, previousElementSibling\n",
    "\n",
    "\n",
    "###### CSS 定位\n",
    "* 绝对定位 \n",
    "* 相对定位"
   ]
  },
  {
   "cell_type": "code",
   "execution_count": 79,
   "id": "935ed121",
   "metadata": {},
   "outputs": [
    {
     "data": {
      "text/html": [
       "<html>\n",
       "<body>\n",
       "    <ul id=\"ul1\">\n",
       "      <li>apple <a class=\"myA\" herf=\"javascript:;\" >hide</a></li>\n",
       "      <li>banana <a class=\"myA\" herf=\"javascript:;\">hide</a></li>\n",
       "    </ul>\n",
       "</body>\n",
       "</html>\n"
      ],
      "text/plain": [
       "<IPython.core.display.HTML object>"
      ]
     },
     "metadata": {},
     "output_type": "display_data"
    }
   ],
   "source": [
    "%%HTML\n",
    "<html>\n",
    "<body>\n",
    "    <ul id=\"ul1\">\n",
    "      <li>apple <a class=\"myA\" herf=\"javascript:;\" >hide</a></li>\n",
    "      <li>banana <a class=\"myA\" herf=\"javascript:;\">hide</a></li>\n",
    "    </ul>\n",
    "</body>\n",
    "</html>"
   ]
  },
  {
   "cell_type": "code",
   "execution_count": 76,
   "id": "3e62ff09",
   "metadata": {},
   "outputs": [
    {
     "data": {
      "application/javascript": [
       "var ul = document.getElementById(\"ul1\");\n",
       "// for (var i in ul.childNodes){ // this is not working. childNodes is not just a simple arry\n",
       "for(var i=0; i < ul.childNodes.length; ++i){\n",
       "    // 只有两个li 但是childNodes有三个childNode, 第一个nodeType为3\n",
       "    // 第一个是文本节点\n",
       "    if(ul.childNodes[i].nodeType==1){\n",
       "        ul.childNodes[i].style.background='green'\n",
       "    }\n",
       "}\n"
      ],
      "text/plain": [
       "<IPython.core.display.Javascript object>"
      ]
     },
     "metadata": {},
     "output_type": "display_data"
    }
   ],
   "source": [
    "%%javascript\n",
    "var ul = document.getElementById(\"ul1\");\n",
    "// for (var i in ul.childNodes){ // this is not working. childNodes is not just a simple arry\n",
    "for(var i=0; i < ul.childNodes.length; ++i){\n",
    "    // 只有两个li 但是childNodes有三个childNode, 第一个nodeType为3\n",
    "    // 第一个是文本节点\n",
    "    if(ul.childNodes[i].nodeType==1){\n",
    "        ul.childNodes[i].style.background='green'\n",
    "    }\n",
    "}"
   ]
  },
  {
   "cell_type": "code",
   "execution_count": 77,
   "id": "54ec9df7",
   "metadata": {},
   "outputs": [
    {
     "data": {
      "application/javascript": [
       "var ul = document.getElementById(\"ul1\");\n",
       "for(var i=0; i < ul.children.length; ++i){\n",
       "    // children 只包含元素节点，不包含文本节点\n",
       "    ul.children[i].style.background='grey'\n",
       "}\n"
      ],
      "text/plain": [
       "<IPython.core.display.Javascript object>"
      ]
     },
     "metadata": {},
     "output_type": "display_data"
    }
   ],
   "source": [
    "%%javascript\n",
    "var ul = document.getElementById(\"ul1\");\n",
    "for(var i=0; i < ul.children.length; ++i){\n",
    "    // children 只包含元素节点，不包含文本节点\n",
    "    ul.children[i].style.background='grey'\n",
    "}"
   ]
  },
  {
   "cell_type": "code",
   "execution_count": 78,
   "id": "9c9c2a4b",
   "metadata": {},
   "outputs": [
    {
     "data": {
      "application/javascript": [
       "function setHerfClick(){\n",
       "    var ul = document.getElementById(\"ul1\");\n",
       "    var a = ul.getElementsByTagName('a');\n",
       "\n",
       "    for (var i=0; i<a.length; ++i){\n",
       "\n",
       "        a[i].onclick=function(){\n",
       "            // what is this? callback 的当前节点？\n",
       "            this.parentNode.style.display='none';\n",
       "        };\n",
       "    }\n",
       "}\n",
       "setHerfClick()\n"
      ],
      "text/plain": [
       "<IPython.core.display.Javascript object>"
      ]
     },
     "metadata": {},
     "output_type": "display_data"
    }
   ],
   "source": [
    "%%javascript\n",
    "function setHerfClick(){\n",
    "    var ul = document.getElementById(\"ul1\");\n",
    "    var a = ul.getElementsByTagName('a');\n",
    "\n",
    "    for (var i=0; i<a.length; ++i){\n",
    "\n",
    "        a[i].onclick=function(){\n",
    "            // what is this? callback 的当前节点？\n",
    "            this.parentNode.style.display='none';\n",
    "        };\n",
    "    }\n",
    "}\n",
    "setHerfClick()"
   ]
  },
  {
   "cell_type": "code",
   "execution_count": 113,
   "id": "7f235c3b",
   "metadata": {},
   "outputs": [
    {
     "data": {
      "text/html": [
       "<html>\n",
       "<style>\n",
       "#div1 {width:20px; height:30px; background:#CCC; margin:5px; position:relative;}\n",
       "#div2 {width:10px; height:20px; background:red; position:absolute; left:5px; top:5px;}\n",
       "</style>\n",
       "<body>\n",
       "<div id=\"div1\">\n",
       "    <div id=\"div2\"></div>\n",
       "</div>\n",
       "</body>\n",
       "</html>\n"
      ],
      "text/plain": [
       "<IPython.core.display.HTML object>"
      ]
     },
     "metadata": {},
     "output_type": "display_data"
    }
   ],
   "source": [
    "%%HTML\n",
    "<html>\n",
    "<style>\n",
    "#div1 {width:20px; height:30px; background:#CCC; margin:5px; position:relative;}\n",
    "#div2 {width:10px; height:20px; background:red; position:absolute; left:5px; top:5px;}\n",
    "</style>\n",
    "<body>\n",
    "<div id=\"div1\">\n",
    "    <div id=\"div2\"></div>\n",
    "</div>\n",
    "</body>\n",
    "</html>"
   ]
  },
  {
   "cell_type": "code",
   "execution_count": 114,
   "id": "fb256f89",
   "metadata": {},
   "outputs": [
    {
     "data": {
      "application/javascript": [
       "var div2 = document.getElementById('div2');\n",
       "alert(div2.offsetParent)\n"
      ],
      "text/plain": [
       "<IPython.core.display.Javascript object>"
      ]
     },
     "metadata": {},
     "output_type": "display_data"
    }
   ],
   "source": [
    "%%javascript\n",
    "var div2 = document.getElementById('div2');\n",
    "alert(div2.offsetParent)"
   ]
  },
  {
   "cell_type": "markdown",
   "id": "0c7d72cd",
   "metadata": {},
   "source": [
    "#### 首尾子节点"
   ]
  },
  {
   "cell_type": "code",
   "execution_count": 116,
   "id": "f372fd7d",
   "metadata": {},
   "outputs": [
    {
     "data": {
      "application/javascript": [
       "var ul = document.getElementById(\"ul1\");\n",
       "if (ul.firstElementChild){\n",
       "    //高级浏览器 支持firstElementChild, 获取第一个元素节点\n",
       "    ul.firstElementChild.style.background='yellow';\n",
       "}\n",
       "else{\n",
       "    //IE6-8 包含文本节点\n",
       "    ul.firstChild.style.background='blue';\n",
       "}\n"
      ],
      "text/plain": [
       "<IPython.core.display.Javascript object>"
      ]
     },
     "metadata": {},
     "output_type": "display_data"
    }
   ],
   "source": [
    "%%javascript\n",
    "var ul = document.getElementById(\"ul1\");\n",
    "if (ul.firstElementChild){\n",
    "    //高级浏览器 支持firstElementChild, 获取第一个元素节点\n",
    "    ul.firstElementChild.style.background='yellow';\n",
    "}\n",
    "else{\n",
    "    //IE6-8 包含文本节点\n",
    "    ul.firstChild.style.background='blue';\n",
    "}"
   ]
  },
  {
   "cell_type": "markdown",
   "id": "0da749dd",
   "metadata": {},
   "source": [
    "### 用DOM操作element属性\n",
    "* element属性操作\n",
    "    * div.style.display = \"block\"\n",
    "    * div.style[\"display\"] = \"block\"\n",
    "    * DOM方式\n",
    "        * setAttribute\n",
    "        * getAttribute\n",
    "        * removeAttribute"
   ]
  },
  {
   "cell_type": "code",
   "execution_count": 119,
   "id": "2432edb9",
   "metadata": {},
   "outputs": [
    {
     "data": {
      "text/html": [
       "<html>\n",
       "<body>\n",
       " <input id=\"txt1\" type=\"text\"/>\n",
       " <input id=\"button1\" type=\"button\" value=\"button\"/>\n",
       "</body>\n",
       "</html>\n"
      ],
      "text/plain": [
       "<IPython.core.display.HTML object>"
      ]
     },
     "metadata": {},
     "output_type": "display_data"
    }
   ],
   "source": [
    "%%HTML\n",
    "<html>\n",
    "<body>\n",
    " <input id=\"txt1\" type=\"text\"/>\n",
    " <input id=\"button1\" type=\"button\" value=\"button\"/>\n",
    "</body>\n",
    "</html>"
   ]
  },
  {
   "cell_type": "code",
   "execution_count": 122,
   "id": "d6a62885",
   "metadata": {},
   "outputs": [
    {
     "data": {
      "application/javascript": [
       "var button1 = document.getElementById(\"button1\");\n",
       "\n",
       "button1.onclick=function(){\n",
       "    var txt1 = document.getElementById(\"txt1\");\n",
       "    txt1.setAttribute(\"value\", \"Hello\");\n",
       "}\n"
      ],
      "text/plain": [
       "<IPython.core.display.Javascript object>"
      ]
     },
     "metadata": {},
     "output_type": "display_data"
    }
   ],
   "source": [
    "%%javascript\n",
    "var button1 = document.getElementById(\"button1\");\n",
    "\n",
    "button1.onclick=function(){\n",
    "    var txt1 = document.getElementById(\"txt1\");\n",
    "    txt1.setAttribute(\"value\", \"Hello\");\n",
    "}"
   ]
  },
  {
   "cell_type": "markdown",
   "id": "0ecf86ec",
   "metadata": {},
   "source": [
    "### DOM element灵活查找\n",
    "* getElementById\n",
    "    * 只能获取一个\n",
    "* getElementByTagName\n",
    "    * 太宽泛\n",
    "* getElementByClass"
   ]
  },
  {
   "cell_type": "code",
   "execution_count": 134,
   "id": "151c5d76",
   "metadata": {},
   "outputs": [
    {
     "data": {
      "application/javascript": [
       "function getByClass(parent, className){\n",
       "    var elements = parent.getElementsByTagName(\"*\");\n",
       "    var matches=[];\n",
       "    for(var i=0; i<elements.length; ++i){\n",
       "        matches.push(elements[i]);\n",
       "    }\n",
       "    return matches;\n",
       "}\n",
       "getByClass(document, \"myA\")\n"
      ],
      "text/plain": [
       "<IPython.core.display.Javascript object>"
      ]
     },
     "metadata": {},
     "output_type": "display_data"
    }
   ],
   "source": [
    "%%javascript\n",
    "function getByClass(parent, className){\n",
    "    var elements = parent.getElementsByTagName(\"*\");\n",
    "    var matches=[];\n",
    "    for(var i=0; i<elements.length; ++i){\n",
    "        matches.push(elements[i]);\n",
    "    }\n",
    "    return matches;\n",
    "}"
   ]
  },
  {
   "cell_type": "markdown",
   "id": "7380c2e8",
   "metadata": {},
   "source": [
    "# JS 事件\n",
    "* event对象\n",
    "    * 兼容性\n",
    "        * IE: callback有一个event对象\n",
    "        * FF: callback funciton 的第一个参数为event对象\n",
    "        * 兼容的写法 \n",
    "        ```\n",
    "        var e=ev||event\n",
    "        ```\n",
    "* document\n",
    "    * document实质上是html的父节点，包含整个页面的对象\n",
    "    * 针对整个页面的事件，给document加，不要给body加\n",
    "* 事件流\n",
    "    * 事件冒泡\n",
    "        * element的事件被trigger，会逐层向上trigger其父节点的相同事件\n",
    "        * event.cancelBubble\n",
    "\n",
    "#### 鼠标事件\n",
    "* 鼠标可视区坐标\n",
    "    * clientX，clientY\n",
    "    * 消除滚动条的影响\n",
    "        * 滚动条的意义 -- 可视区与页面顶部的距离\n",
    "* onclick\n",
    "* onmousemove\n"
   ]
  },
  {
   "cell_type": "code",
   "execution_count": 80,
   "id": "c2a38a83",
   "metadata": {},
   "outputs": [
    {
     "data": {
      "text/html": [
       "<html>\n",
       "<body>\n",
       "<input value=\"hello\" type=\"button\"/>\n",
       "\n",
       "<script>\n",
       "    document.onclick=function (ev){\n",
       "        //IE\n",
       "        //alert(event.clientX + ', ' + event.clientY);\n",
       "        \n",
       "        //FF\n",
       "        //alert(ev.clientX + ', ' + ev.clientY);\n",
       "        \n",
       "        var e = ev||event;\n",
       "        //alert(e.clientX + ', ' + e.clientY);\n",
       "    }\n",
       "</script>\n",
       "\n",
       "</body>\n",
       "</html>\n"
      ],
      "text/plain": [
       "<IPython.core.display.HTML object>"
      ]
     },
     "metadata": {},
     "output_type": "display_data"
    }
   ],
   "source": [
    "%%HTML\n",
    "<html>\n",
    "<body>\n",
    "<input value=\"hello\" type=\"button\"/>\n",
    "\n",
    "<script>\n",
    "    document.onclick=function (ev){\n",
    "        //IE\n",
    "        //alert(event.clientX + ', ' + event.clientY);\n",
    "        \n",
    "        //FF\n",
    "        //alert(ev.clientX + ', ' + ev.clientY);\n",
    "        \n",
    "        var e = ev||event;\n",
    "        //alert(e.clientX + ', ' + e.clientY);\n",
    "    }\n",
    "</script>\n",
    "\n",
    "</body>\n",
    "</html>"
   ]
  },
  {
   "cell_type": "code",
   "execution_count": 81,
   "id": "8abf418c",
   "metadata": {},
   "outputs": [
    {
     "data": {
      "application/javascript": [
       "alert(document.childNodes[1].tagName)\n"
      ],
      "text/plain": [
       "<IPython.core.display.Javascript object>"
      ]
     },
     "metadata": {},
     "output_type": "display_data"
    }
   ],
   "source": [
    "%%javascript\n",
    "alert(document.childNodes[1].tagName)"
   ]
  },
  {
   "cell_type": "markdown",
   "id": "b7145400",
   "metadata": {},
   "source": [
    "#### event冒泡"
   ]
  },
  {
   "cell_type": "code",
   "execution_count": 82,
   "id": "b241f779",
   "metadata": {},
   "outputs": [
    {
     "data": {
      "text/html": [
       "<html>\n",
       "<body>\n",
       "\n",
       "<div onclick=\"alert('div onclick')\">\n",
       "    <input type=\"button\" value=\"hello\" onclick=\"alert('button click')\"/>\n",
       "    <!--event.cancelBubble 可以disable 继续向上冒泡-->\n",
       "</div>\n",
       "\n",
       "</body>\n",
       "</html>\n"
      ],
      "text/plain": [
       "<IPython.core.display.HTML object>"
      ]
     },
     "metadata": {},
     "output_type": "display_data"
    }
   ],
   "source": [
    "%%HTML\n",
    "<html>\n",
    "<body>\n",
    "\n",
    "<div onclick=\"alert('div onclick')\">\n",
    "    <input type=\"button\" value=\"hello\" onclick=\"alert('button click')\"/>\n",
    "    <!--event.cancelBubble 可以disable 继续向上冒泡-->\n",
    "</div>\n",
    "\n",
    "</body>\n",
    "</html>"
   ]
  },
  {
   "cell_type": "code",
   "execution_count": 83,
   "id": "83e0d48f",
   "metadata": {},
   "outputs": [
    {
     "data": {
      "text/html": [
       "<html>\n",
       "<style>\n",
       "#div5 {width:20px; height:20px; background:red; position:absolute}\n",
       "</style>\n",
       "\n",
       "<body>\n",
       "<div id=\"div5\"/>\n",
       "<script>\n",
       "    document.onmousemove=function (ev){\n",
       "       var e = ev||event;\n",
       "        var div = document.getElementById('div5');\n",
       "        \n",
       "        var scrollTop = document.documentElement.scrollTop || document.body.scrollTop;\n",
       "        \n",
       "        div.style.left = e.clientX + \"px\";\n",
       "        //div.style.top = e.clientY + scrollTop + \"px\";\n",
       "    }\n",
       "</script>\n",
       "\n",
       "</body>\n",
       "</html>\n"
      ],
      "text/plain": [
       "<IPython.core.display.HTML object>"
      ]
     },
     "metadata": {},
     "output_type": "display_data"
    }
   ],
   "source": [
    "%%HTML\n",
    "<html>\n",
    "<style>\n",
    "#div5 {width:20px; height:20px; background:red; position:absolute}\n",
    "</style>\n",
    "\n",
    "<body>\n",
    "<div id=\"div5\"/>\n",
    "<script>\n",
    "    document.onmousemove=function (ev){\n",
    "       var e = ev||event;\n",
    "        var div = document.getElementById('div5');\n",
    "        \n",
    "        var scrollTop = document.documentElement.scrollTop || document.body.scrollTop;\n",
    "        \n",
    "        div.style.left = e.clientX + \"px\";\n",
    "        //div.style.top = e.clientY + scrollTop + \"px\";\n",
    "    }\n",
    "</script>\n",
    "\n",
    "</body>\n",
    "</html>"
   ]
  },
  {
   "cell_type": "code",
   "execution_count": 84,
   "id": "f377b7c5",
   "metadata": {},
   "outputs": [
    {
     "data": {
      "application/javascript": [
       "function getPos(ev){\n",
       "    var scrollTop = document.documentElement.scrollTop || document.body.scrollTop;\n",
       "    var scrollLeft = document.documentElement.scrollLeft || document.body.scrollLeft;\n",
       "    \n",
       "    return {x:ev.clientX + scrollLeft, y:ev.clientY + scrollTop}\n",
       "}\n"
      ],
      "text/plain": [
       "<IPython.core.display.Javascript object>"
      ]
     },
     "metadata": {},
     "output_type": "display_data"
    }
   ],
   "source": [
    "%%javascript\n",
    "function getPos(ev){\n",
    "    var scrollTop = document.documentElement.scrollTop || document.body.scrollTop;\n",
    "    var scrollLeft = document.documentElement.scrollLeft || document.body.scrollLeft;\n",
    "    \n",
    "    return {x:ev.clientX + scrollLeft, y:ev.clientY + scrollTop}\n",
    "}"
   ]
  },
  {
   "cell_type": "markdown",
   "id": "975a9d68",
   "metadata": {},
   "source": [
    "#### 键盘事件\n",
    "* event\n",
    "    * onkeydown\n",
    "    * onkeyup\n",
    "* keyCode\n",
    "    * a: 65\n",
    "    * space: 32\n",
    "    * enter: 13\n",
    "* 其他属性\n",
    "    * ctrlKey\n",
    "    * shiftKey\n",
    "    * altKey"
   ]
  },
  {
   "cell_type": "code",
   "execution_count": 14,
   "id": "8b7ec5d9",
   "metadata": {},
   "outputs": [
    {
     "data": {
      "text/html": [
       "<html>\n",
       "<style>\n",
       "#div6 {width:20px; height:20px; background:grey; position:absolute}\n",
       "</style>\n",
       "\n",
       "<body>\n",
       "<div id=\"div6\"/>\n",
       "<script>\n",
       "    document.onkeydown=function (ev){\n",
       "        var e = ev||event;\n",
       "        var div = document.getElementById('div6');\n",
       "        \n",
       "        if(e.keyCode==37){  //left\n",
       "             div.style.left = div.offsetLeft - 10 + \"px\";\n",
       "        }\n",
       "        \n",
       "        if(e.keyCode==39){  // right\n",
       "            div.style.left = div.offsetLeft + 10 + \"px\";\n",
       "        }\n",
       "    }\n",
       "</script>\n",
       "</body>\n",
       "</html>\n"
      ],
      "text/plain": [
       "<IPython.core.display.HTML object>"
      ]
     },
     "metadata": {},
     "output_type": "display_data"
    }
   ],
   "source": [
    "%%HTML\n",
    "<html>\n",
    "<style>\n",
    "#div6 {width:20px; height:20px; background:grey; position:absolute}\n",
    "</style>\n",
    "\n",
    "<body>\n",
    "<div id=\"div6\"/>\n",
    "<script>\n",
    "    document.onkeydown=function (ev){\n",
    "        var e = ev||event;\n",
    "        var div = document.getElementById('div6');\n",
    "        \n",
    "        if(e.keyCode==37){  //left\n",
    "             div.style.left = div.offsetLeft - 10 + \"px\";\n",
    "        }\n",
    "        \n",
    "        if(e.keyCode==39){  // right\n",
    "            div.style.left = div.offsetLeft + 10 + \"px\";\n",
    "        }\n",
    "    }\n",
    "</script>\n",
    "</body>\n",
    "</html>"
   ]
  },
  {
   "cell_type": "markdown",
   "id": "817bfb4a",
   "metadata": {},
   "source": [
    "### 面向对象，通过闭包传递this"
   ]
  },
  {
   "cell_type": "code",
   "execution_count": 71,
   "id": "8283f3f2",
   "metadata": {},
   "outputs": [
    {
     "data": {
      "text/html": [
       "<html>\n",
       "<style>\n",
       "#div10 input {background:white;}\n",
       "#div10 input.active {background:yellow;}\n",
       "#div10 div {width:200px; height;200px; background:#CCC; display:none;}\n",
       "</style>\n",
       "<body>\n",
       "<div id=\"div10\">\n",
       " <input class=\"active\" type=\"button\" value=\"aaa\"/>\n",
       " <input type=\"button\" value=\"bbb\"/>\n",
       " <div style=\"display:block;\">aaa</div>\n",
       " <div>bbb</div>\n",
       "</div>\n",
       "</body>\n",
       "</html>\n"
      ],
      "text/plain": [
       "<IPython.core.display.HTML object>"
      ]
     },
     "metadata": {},
     "output_type": "display_data"
    }
   ],
   "source": [
    "%%HTML\n",
    "<html>\n",
    "<style>\n",
    "#div10 input {background:white;}\n",
    "#div10 input.active {background:yellow;}\n",
    "#div10 div {width:200px; height;200px; background:#CCC; display:none;}\n",
    "</style>\n",
    "<body>\n",
    "<div id=\"div10\">\n",
    " <input class=\"active\" type=\"button\" value=\"aaa\"/>\n",
    " <input type=\"button\" value=\"bbb\"/>\n",
    " <div style=\"display:block;\">aaa</div>\n",
    " <div>bbb</div>\n",
    "</div>\n",
    "</body>\n",
    "</html>"
   ]
  },
  {
   "cell_type": "markdown",
   "id": "cec9b0a0",
   "metadata": {},
   "source": [
    "#### 面向过程原程序"
   ]
  },
  {
   "cell_type": "code",
   "execution_count": 72,
   "id": "1cc100b3",
   "metadata": {},
   "outputs": [
    {
     "data": {
      "application/javascript": [
       "function TabSwitch(divName){\n",
       "    \n",
       "    var _this=this; //传递TabSwitch的reference\n",
       "    \n",
       "    this.div = document.getElementById(divName);\n",
       "    this.buttons = this.div.getElementsByTagName(\"input\");\n",
       "    this.innerDivs = this.div.getElementsByTagName(\"div\");\n",
       "    \n",
       "    for(var i=0; i<this.buttons.length; i++){\n",
       "        this.buttons[i].index = i;\n",
       "        //this.buttons[i].onclick = this.click;\n",
       "        \n",
       "        this.buttons[i].onclick = function(){\n",
       "            //this 是callback绑定的this，是inputButton\n",
       "            //通过闭包获取了TabSwitch的reference _this\n",
       "            _this.click(this); //保证click function里的this绑定的是TabSwith\n",
       "        };\n",
       "    }\n",
       "}\n",
       "\n",
       "TabSwitch.prototype.click = function (button){\n",
       "\n",
       "    // alert(this) //按上文注释绑定callback 则this 是inputButton 不是TabSwitch!!\n",
       "\n",
       "    for(var i=0; i<this.buttons.length; i++){\n",
       "        this.buttons[i].className=''\n",
       "        this.innerDivs[i].style.display='none';\n",
       "    }\n",
       "    button.className='active';\n",
       "    this.innerDivs[button.index].style.display='block';\n",
       "}\n",
       "\n",
       "var tabSwitch = new TabSwitch(\"div10\")\n"
      ],
      "text/plain": [
       "<IPython.core.display.Javascript object>"
      ]
     },
     "metadata": {},
     "output_type": "display_data"
    }
   ],
   "source": [
    "%%javascript\n",
    "function TabSwitch(divName){\n",
    "    \n",
    "    var _this=this; //传递TabSwitch的reference\n",
    "    \n",
    "    this.div = document.getElementById(divName);\n",
    "    this.buttons = this.div.getElementsByTagName(\"input\");\n",
    "    this.innerDivs = this.div.getElementsByTagName(\"div\");\n",
    "    \n",
    "    for(var i=0; i<this.buttons.length; i++){\n",
    "        this.buttons[i].index = i;\n",
    "        //this.buttons[i].onclick = this.click;\n",
    "        \n",
    "        this.buttons[i].onclick = function(){\n",
    "            //this 是callback绑定的this，是inputButton\n",
    "            //通过闭包获取了TabSwitch的reference _this\n",
    "            _this.click(this); //保证click function里的this绑定的是TabSwith\n",
    "        };\n",
    "    }\n",
    "}\n",
    "\n",
    "TabSwitch.prototype.click = function (button){\n",
    "\n",
    "    // alert(this) //按上文注释绑定callback 则this 是inputButton 不是TabSwitch!!\n",
    "\n",
    "    for(var i=0; i<this.buttons.length; i++){\n",
    "        this.buttons[i].className=''\n",
    "        this.innerDivs[i].style.display='none';\n",
    "    }\n",
    "    button.className='active';\n",
    "    this.innerDivs[button.index].style.display='block';\n",
    "}\n",
    "\n",
    "var tabSwitch = new TabSwitch(\"div10\")"
   ]
  },
  {
   "cell_type": "markdown",
   "id": "ac6806f9",
   "metadata": {},
   "source": [
    "# BOM\n",
    "### BOM基础\n",
    "* 打开、关闭窗口\n",
    "* 常用属性\n",
    "    * document <=> window.document\n",
    "    * window.navigator.userAgent\n",
    "    * window.location 可读可写\n",
    "* 窗口尺寸，工作区尺寸\n",
    "    * 可视区\n",
    "        * document.documentElement.clientWidth\n",
    "        * document.documentElement.clientHeight\n",
    "    * 滚动距离\n",
    "        * chrome: document.body.scrollTop\n",
    "        * IE/FF: document.documentElement.scrollTop\n",
    "        \n",
    "<img src=\"./img/js/scrolltop.png\" style=\"width:250px;\"/>\n",
    "\n",
    "* event\n",
    "    * window.onload\n",
    "    * window.onscroll\n",
    "    * window.onresize\n",
    "* 常用方法\n",
    "    * window.alert\n",
    "    * window.confirm\n",
    "    * window.prompt"
   ]
  },
  {
   "cell_type": "code",
   "execution_count": 56,
   "id": "73681367",
   "metadata": {},
   "outputs": [
    {
     "data": {
      "text/html": [
       "<html>\n",
       "<body>\n",
       "<input type=\"button\" id=\"openButton\" value=\"open\" />\n",
       "<!-- 除了IE，脚本不能close非他自己打开的窗口 -->\n",
       "<input type=\"button\" id=\"closeButton\" value=\"close\" onclick=\"window.close()\" />\n",
       "</body>\n",
       "</html>\n"
      ],
      "text/plain": [
       "<IPython.core.display.HTML object>"
      ]
     },
     "metadata": {},
     "output_type": "display_data"
    }
   ],
   "source": [
    "%%HTML\n",
    "<html>\n",
    "<body>\n",
    "<input type=\"button\" id=\"openButton\" value=\"open\" />\n",
    "\n",
    "<!-- 除了IE，脚本不能close非他自己打开的窗口 -->\n",
    "<input type=\"button\" id=\"closeButton\" value=\"close\" onclick=\"window.close()\" />\n",
    "</body>\n",
    "</html>"
   ]
  },
  {
   "cell_type": "code",
   "execution_count": 58,
   "id": "07a9f877",
   "metadata": {},
   "outputs": [
    {
     "data": {
      "application/javascript": [
       "var button = document.getElementById(\"openButton\");\n",
       "button.onclick = function() {\n",
       "    var newWindow = window.open(\"about:blank\", \"_blank\");\n",
       "    newWindow.document.write(window.navigator.userAgent, window.location);\n",
       "}\n"
      ],
      "text/plain": [
       "<IPython.core.display.Javascript object>"
      ]
     },
     "metadata": {},
     "output_type": "display_data"
    }
   ],
   "source": [
    "%%javascript\n",
    "var button = document.getElementById(\"openButton\");\n",
    "button.onclick = function() {\n",
    "    var newWindow = window.open(\"about:blank\", \"_blank\");\n",
    "    newWindow.document.write(window.navigator.userAgent, window.location);\n",
    "}"
   ]
  },
  {
   "cell_type": "markdown",
   "id": "bfd98b89",
   "metadata": {},
   "source": [
    "# Cookie\n",
    "### 基础\n",
    "* 用途\n",
    "    * 页面用来保存信息\n",
    "    * e.g. 用户名，自动登录\n",
    "* Cookie特性\n",
    "    * 同一个域名下的网页cookie共享\n",
    "    * 数量、大小有限 4-10K\n",
    "    * 过期时间\n",
    "* JS使用cookie\n",
    "    * document.cookie"
   ]
  },
  {
   "cell_type": "code",
   "execution_count": 112,
   "id": "2c0c751e",
   "metadata": {},
   "outputs": [
    {
     "data": {
      "application/javascript": [
       "document.cookie='user=Paul';\n",
       "document.cookie=\"pass=123456\"; //对cookie的赋值不会覆盖，而是append\n"
      ],
      "text/plain": [
       "<IPython.core.display.Javascript object>"
      ]
     },
     "metadata": {},
     "output_type": "display_data"
    }
   ],
   "source": [
    "%%javascript\n",
    "document.cookie='user=Paul';\n",
    "document.cookie=\"pass=123456\"; //对cookie的赋值不会覆盖，而是append"
   ]
  },
  {
   "cell_type": "markdown",
   "id": "5f6efde4",
   "metadata": {},
   "source": [
    "#### 设置过期时间"
   ]
  },
  {
   "cell_type": "code",
   "execution_count": 114,
   "id": "21e72b24",
   "metadata": {},
   "outputs": [
    {
     "data": {
      "application/javascript": [
       "function format(a, args){\n",
       "  for (var k in args) {\n",
       "    a = a.replace(\"{\" + k + \"}\", args[k])\n",
       "  }\n",
       "  return a;\n",
       "}\n",
       "\n",
       "function setCookie(name, value, expireInNumDays){\n",
       "    var expireDate = new Date();\n",
       "    expireDate.setDate(expireDate.getDate() + expireInNumDays);\n",
       "    \n",
       "    document.cookie = format(\"{name}={value};expires={expireDate}\",\n",
       "                             {name:name, value:value, expireDate:expireDate});\n",
       "}\n",
       "\n",
       "function getCookie(name){\n",
       "    var elements = document.cookie.split(\"; \")\n",
       "    \n",
       "    for(var i=0; i<elements.length; i++){\n",
       "        \n",
       "        var keyValue = elements[i].split(\"=\")\n",
       "        if(keyValue[0]==name){\n",
       "            return keyValue[1];\n",
       "        }\n",
       "    }\n",
       "    return '';\n",
       "}\n",
       "\n",
       "function removeCookie(name){\n",
       "    setCookie(name, '', -1); //set cookie to expire today\n",
       "}\n",
       "\n",
       "removeCookie('pass')\n",
       "setCookie(\"account\", \"apple\", 7);\n",
       "alert(document.cookie)\n"
      ],
      "text/plain": [
       "<IPython.core.display.Javascript object>"
      ]
     },
     "metadata": {},
     "output_type": "display_data"
    }
   ],
   "source": [
    "%%javascript\n",
    "function format(a, args){\n",
    "  for (var k in args) {\n",
    "    a = a.replace(\"{\" + k + \"}\", args[k])\n",
    "  }\n",
    "  return a;\n",
    "}\n",
    "\n",
    "function setCookie(name, value, expireInNumDays){\n",
    "    var expireDate = new Date();\n",
    "    expireDate.setDate(expireDate.getDate() + expireInNumDays);\n",
    "    \n",
    "    document.cookie = format(\"{name}={value};expires={expireDate}\",\n",
    "                             {name:name, value:value, expireDate:expireDate});\n",
    "}\n",
    "\n",
    "function getCookie(name){\n",
    "    var elements = document.cookie.split(\"; \")\n",
    "    \n",
    "    for(var i=0; i<elements.length; i++){\n",
    "        \n",
    "        var keyValue = elements[i].split(\"=\")\n",
    "        if(keyValue[0]==name){\n",
    "            return keyValue[1];\n",
    "        }\n",
    "    }\n",
    "    return '';\n",
    "}\n",
    "\n",
    "function removeCookie(name){\n",
    "    setCookie(name, '', -1); //set cookie to expire today\n",
    "}\n",
    "\n",
    "removeCookie('pass')\n",
    "setCookie(\"account\", \"apple\", 7);\n",
    "alert(document.cookie)"
   ]
  },
  {
   "cell_type": "code",
   "execution_count": null,
   "id": "94365c38",
   "metadata": {},
   "outputs": [],
   "source": []
  }
 ],
 "metadata": {
  "kernelspec": {
   "display_name": "Python 3",
   "language": "python",
   "name": "python3"
  },
  "language_info": {
   "codemirror_mode": {
    "name": "ipython",
    "version": 3
   },
   "file_extension": ".py",
   "mimetype": "text/x-python",
   "name": "python",
   "nbconvert_exporter": "python",
   "pygments_lexer": "ipython3",
   "version": "3.8.8"
  }
 },
 "nbformat": 4,
 "nbformat_minor": 5
}
