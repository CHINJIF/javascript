{
 "cells": [
  {
   "cell_type": "markdown",
   "id": "3e81a65c",
   "metadata": {},
   "source": [
    "# Module\n",
    "\n",
    "### TS\n",
    "\n",
    "```typescript\n",
    "export function getData(): any[] {\n",
    "   console.log(\"Get data from Database\");\n",
    "}\n",
    "```\n",
    "\n",
    "#### CommonJS\n",
    "* nodeJs支持的是commonjs的module标准，将tsconfig.json module选项改为commonjs，则生成一下代码\n",
    "```javascript\n",
    "    Object.defineProperty(exports, \"__esModule\", { value: true });\n",
    "\n",
    "    exports.getData = void 0;\n",
    "\n",
    "    function getData() {\n",
    "        console.log(\"Get data from Database\");\n",
    "    }\n",
    "    exports.getData = getData;\n",
    "```\n",
    "\n",
    "#### ES6\n",
    "```javascript\n",
    "export function getData() {\n",
    "    console.log(\"Get data from Database\");\n",
    "}\n",
    "```"
   ]
  },
  {
   "cell_type": "markdown",
   "id": "1e228837",
   "metadata": {},
   "source": [
    "#### Import"
   ]
  },
  {
   "cell_type": "code",
   "execution_count": 1,
   "id": "1302c80f",
   "metadata": {},
   "outputs": [
    {
     "name": "stdout",
     "output_type": "stream",
     "text": [
      "Get data from Database\n"
     ]
    },
    {
     "data": {
      "text/plain": [
       "undefined"
      ]
     },
     "execution_count": 1,
     "metadata": {},
     "output_type": "execute_result"
    }
   ],
   "source": [
    "import { getData as getDb} from './modules/db'\n",
    "getDb()"
   ]
  },
  {
   "cell_type": "markdown",
   "id": "6835b0b0",
   "metadata": {},
   "source": [
    "### Export Default"
   ]
  },
  {
   "cell_type": "markdown",
   "id": "c79fe1ce",
   "metadata": {},
   "source": [
    "## Namespace\n",
    "* namespace里的所有属性方法均为私有，需要export\n",
    "* namespace处于module里，那本身也需要被export\n",
    "\n",
    "```typescript\n",
    "export namespace Db {\n",
    "   export class Users {\n",
    "      static getData(): void {\n",
    "         console.log(\"Get data from Users\");\n",
    "      }\n",
    "   }\n",
    "}\n",
    "```"
   ]
  },
  {
   "cell_type": "code",
   "execution_count": 2,
   "id": "2d1826cd",
   "metadata": {},
   "outputs": [
    {
     "name": "stdout",
     "output_type": "stream",
     "text": [
      "Get data from Users\n"
     ]
    },
    {
     "data": {
      "text/plain": [
       "undefined"
      ]
     },
     "execution_count": 2,
     "metadata": {},
     "output_type": "execute_result"
    }
   ],
   "source": [
    "import {Db} from './modules/db'\n",
    "\n",
    "Db.Users.getData()"
   ]
  },
  {
   "cell_type": "code",
   "execution_count": null,
   "id": "4ca8b458",
   "metadata": {},
   "outputs": [],
   "source": []
  }
 ],
 "metadata": {
  "kernelspec": {
   "display_name": "Typescript 4.3",
   "language": "typescript",
   "name": "typescript"
  },
  "language_info": {
   "file_extension": ".ts",
   "mimetype": "application/x-typescript",
   "name": "typescript",
   "version": "4.3.5"
  }
 },
 "nbformat": 4,
 "nbformat_minor": 5
}
