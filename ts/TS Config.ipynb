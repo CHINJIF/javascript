{
 "cells": [
  {
   "cell_type": "markdown",
   "id": "9a08516f",
   "metadata": {},
   "source": [
    "## TS Config\n",
    "\n",
    "#### 自动编译文件\n",
    "* -w \n",
    "    * watch 编译器block监视hello.ts，自动编译\n",
    "    * 监视单个文件"
   ]
  },
  {
   "cell_type": "code",
   "execution_count": null,
   "id": "ffa3147e",
   "metadata": {},
   "outputs": [],
   "source": [
    "!tsc hello.ts -w"
   ]
  },
  {
   "cell_type": "markdown",
   "id": "8dff6730",
   "metadata": {},
   "source": [
    "\n",
    "#### tsconfig.json\n",
    "##### Sample\n",
    "```\n",
    "{\n",
    "  \"module\":1,\"\n",
    "  target\":1,\n",
    "  \"moduleResolution\":2,\n",
    "  \"esModuleInterop\":true\n",
    "  \n",
    "  \"include\": [\n",
    "    \"./src/**/*\"\n",
    "  ]\n",
    "}\n",
    "```\n",
    "##### 选项\n",
    "* include 用来指定需要编译的ts文件\n",
    "    * \\** 表示任意目录\n",
    "    * \\* 表示任意文件\n",
    "* exclude \n",
    "* extends 定义被继承的配置文件\n",
    "* files 指定编译文件列表\n",
    "\n",
    "##### 复杂选项\n",
    "###### compilerOptions\n",
    "* target：编译文件对应的ES版本\n",
    "    * ES3, ES2020, ESNext\n",
    "* module：指定要使用的模块化（import）的规范\n",
    "    * TS\n",
    "        ```javascript\n",
    "        import { hi } from \"m.js\"\n",
    "        ```\n",
    "    * es6\n",
    "        ```javascript\n",
    "        import { hi } from \"m.js\"\n",
    "        ```\n",
    "    * commonjs\n",
    "        ```javascript\n",
    "        const m_js_1 = require(\"m.js\")\n",
    "        ```\n",
    "    * amd, system, esnext, etc\n",
    "* lib: 指定项目需要的库\n",
    "    * lib: [\"dom\"]\n",
    "    * ES5, ES2020, DOM, WebWorker, ScriptHost, etc\n",
    "* outDir: 指定编译文件所在的目录\n",
    "    * default：和TS文件再同一目录\n",
    "    * outDir: \"./dist\"\n",
    "* outFile: 所有的全局作用域中的代码合并到一个文件中\n",
    "    * outFile; \"./dist/app.js\"\n",
    "* allowJs: 是否对JS进行编译，default false\n",
    "* checkJs: 是否检查JS文件语法， default false\n",
    "* removeComments：编译是否包含注释\n",
    "* noEmit: 是否生成编译后的js文件\n",
    "* noEmitOnError：编译错误则不生成编译后文件\n",
    "\n",
    "##### 语法检查相关选项\n",
    "* strict：严格检查的总开关\n",
    "* alwaysStrict\n",
    "* noImplicitAny\n",
    "    * var a；编译器隐式设a为any，不允许该操作\n",
    "* noImplicitThis\n",
    "    ```javascript\n",
    "    function buttonClick(){\n",
    "        alert(this); //this类型不明确\n",
    "    }\n",
    "    \n",
    "    function buttonClick(this: Button){\n",
    "        alert(this); // this类型明确\n",
    "    }\n",
    "   ```\n",
    "* strictNullCheck\n",
    "    ```javascript\n",
    "    var box1 = document.getElementById(elementId: 'box1');\n",
    "    // box1 可能为null\n",
    "    box1?.addEventListener('click', function(){});\n",
    "    ```"
   ]
  },
  {
   "cell_type": "code",
   "execution_count": 9,
   "id": "310beb37",
   "metadata": {},
   "outputs": [],
   "source": [
    "!tsc"
   ]
  },
  {
   "cell_type": "code",
   "execution_count": null,
   "id": "a3b28def",
   "metadata": {},
   "outputs": [],
   "source": []
  }
 ],
 "metadata": {
  "kernelspec": {
   "display_name": "Python 3",
   "language": "python",
   "name": "python3"
  },
  "language_info": {
   "codemirror_mode": {
    "name": "ipython",
    "version": 3
   },
   "file_extension": ".py",
   "mimetype": "text/x-python",
   "name": "python",
   "nbconvert_exporter": "python",
   "pygments_lexer": "ipython3",
   "version": "3.8.8"
  }
 },
 "nbformat": 4,
 "nbformat_minor": 5
}
