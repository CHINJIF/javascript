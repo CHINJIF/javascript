{
 "cells": [
  {
   "cell_type": "code",
   "execution_count": 4,
   "id": "a439d7ff",
   "metadata": {},
   "outputs": [
    {
     "ename": "SyntaxError",
     "evalue": "unknown: Unexpected token (1:0)\n\n\u001b[0m\u001b[31m\u001b[1m>\u001b[22m\u001b[39m\u001b[90m 1 |\u001b[39m \u001b[33m%\u001b[39mlimagic\u001b[0m\n\u001b[0m \u001b[90m   |\u001b[39m \u001b[31m\u001b[1m^\u001b[22m\u001b[39m\u001b[0m",
     "output_type": "error",
     "traceback": [
      "SyntaxError: unknown: Unexpected token (1:0)",
      "",
      "\u001b[0m\u001b[31m\u001b[1m>\u001b[22m\u001b[39m\u001b[90m 1 |\u001b[39m \u001b[33m%\u001b[39mlimagic\u001b[0m",
      "\u001b[0m \u001b[90m   |\u001b[39m \u001b[31m\u001b[1m^\u001b[22m\u001b[39m\u001b[0m",
      "    at Parser._raise (C:\\Users\\hsy99\\AppData\\Roaming\\npm\\node_modules\\jp-babel\\node_modules\\@babel\\parser\\lib\\index.js:798:17)",
      "    at Parser.raiseWithData (C:\\Users\\hsy99\\AppData\\Roaming\\npm\\node_modules\\jp-babel\\node_modules\\@babel\\parser\\lib\\index.js:791:17)",
      "    at Parser.raise (C:\\Users\\hsy99\\AppData\\Roaming\\npm\\node_modules\\jp-babel\\node_modules\\@babel\\parser\\lib\\index.js:752:17)",
      "    at Parser.unexpected (C:\\Users\\hsy99\\AppData\\Roaming\\npm\\node_modules\\jp-babel\\node_modules\\@babel\\parser\\lib\\index.js:3257:16)",
      "    at Parser.parseExprAtom (C:\\Users\\hsy99\\AppData\\Roaming\\npm\\node_modules\\jp-babel\\node_modules\\@babel\\parser\\lib\\index.js:11520:20)",
      "    at Parser.parseExprSubscripts (C:\\Users\\hsy99\\AppData\\Roaming\\npm\\node_modules\\jp-babel\\node_modules\\@babel\\parser\\lib\\index.js:11081:23)",
      "    at Parser.parseUpdate (C:\\Users\\hsy99\\AppData\\Roaming\\npm\\node_modules\\jp-babel\\node_modules\\@babel\\parser\\lib\\index.js:11061:21)",
      "    at Parser.parseMaybeUnary (C:\\Users\\hsy99\\AppData\\Roaming\\npm\\node_modules\\jp-babel\\node_modules\\@babel\\parser\\lib\\index.js:11039:23)",
      "    at Parser.parseExprOps (C:\\Users\\hsy99\\AppData\\Roaming\\npm\\node_modules\\jp-babel\\node_modules\\@babel\\parser\\lib\\index.js:10882:23)",
      "    at Parser.parseMaybeConditional (C:\\Users\\hsy99\\AppData\\Roaming\\npm\\node_modules\\jp-babel\\node_modules\\@babel\\parser\\lib\\index.js:10856:23)"
     ]
    }
   ],
   "source": []
  },
  {
   "cell_type": "code",
   "execution_count": null,
   "id": "56a608a9",
   "metadata": {},
   "outputs": [],
   "source": []
  }
 ],
 "metadata": {
  "kernelspec": {
   "display_name": "jp-Babel (Node.js)",
   "language": "babel",
   "name": "babel"
  },
  "language_info": {
   "file_extension": ".js",
   "mimetype": "application/javascript",
   "name": "javascript",
   "version": "14.17.5"
  }
 },
 "nbformat": 4,
 "nbformat_minor": 5
}
